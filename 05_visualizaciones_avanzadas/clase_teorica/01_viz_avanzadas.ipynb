{
 "cells": [
  {
   "cell_type": "markdown",
   "id": "877555f2",
   "metadata": {},
   "source": [
    "### 1. Gráfico de Líneas"
   ]
  },
  {
   "cell_type": "code",
   "execution_count": null,
   "id": "c88c820c",
   "metadata": {},
   "outputs": [],
   "source": [
    "import seaborn as sns\n",
    "import matplotlib.pyplot as plt"
   ]
  },
  {
   "cell_type": "code",
   "execution_count": null,
   "id": "7b211f23",
   "metadata": {},
   "outputs": [],
   "source": [
    "# Cargar datos\n",
    "flights = sns.load_dataset(\"flights\")"
   ]
  },
  {
   "cell_type": "code",
   "execution_count": null,
   "id": "05f1caa3",
   "metadata": {},
   "outputs": [],
   "source": [
    "may_flights = flights.query(\"month == 'May'\")\n",
    "\n",
    "# Gráfico de líneas\n",
    "# Axes-Level\n",
    "\n",
    "plt.figure(figsize=(10, 6))\n",
    "sns.lineplot(data=may_flights, x=\"year\", y=\"passengers\")\n",
    "plt.title('Pasajeros en Mayo a través de los años')\n",
    "plt.show()\n"
   ]
  },
  {
   "cell_type": "code",
   "execution_count": null,
   "id": "4ed47bb1",
   "metadata": {},
   "outputs": [],
   "source": [
    "#  Figure-level\n",
    "may_flights = flights.query(\"month == 'May'\")\n",
    "\n",
    "g = sns.relplot(\n",
    "    data=may_flights, \n",
    "    x=\"year\", \n",
    "    y=\"passengers\", \n",
    "    kind=\"line\",  # Especificamos que queremos línea\n",
    "    height=6,     # En figure-level usamos height en lugar de figsize\n",
    "    aspect=1.67   # aspect = width/height (10/6 ≈ 1.67)\n",
    ")\n",
    "\n",
    "\n",
    "g.figure.suptitle('Pasajeros en Mayo a través de los años')\n",
    "plt.show()"
   ]
  },
  {
   "cell_type": "markdown",
   "id": "d6af228f",
   "metadata": {},
   "source": [
    "### 2. Gráfico de Dispersión (Scatterplot)"
   ]
  },
  {
   "cell_type": "code",
   "execution_count": null,
   "id": "f5f136bf",
   "metadata": {},
   "outputs": [],
   "source": [
    "# Cargar datos\n",
    "tips = sns.load_dataset(\"tips\")"
   ]
  },
  {
   "cell_type": "code",
   "execution_count": null,
   "id": "f7d37832",
   "metadata": {},
   "outputs": [],
   "source": [
    "# Scatterplot básico\n",
    "plt.figure(figsize=(10, 6))\n",
    "sns.scatterplot(data=tips, x=\"total_bill\", y=\"tip\")\n",
    "plt.title('Relación entre Total de la Cuenta y Propina')\n",
    "plt.show()\n",
    "\n",
    "# Scatterplot con categorías\n",
    "plt.figure(figsize=(10, 6))\n",
    "sns.scatterplot(data=tips, x=\"total_bill\", y=\"tip\", hue=\"time\", style=\"smoker\")\n",
    "plt.title('Relación Total Cuenta vs Propina por Tiempo y Fumador')\n",
    "plt.show()\n"
   ]
  },
  {
   "cell_type": "code",
   "execution_count": null,
   "id": "38354a27",
   "metadata": {},
   "outputs": [],
   "source": [
    "# Figure-level del scatterplot básico\n",
    "g = sns.relplot(\n",
    "    data=tips, \n",
    "    x=\"total_bill\", \n",
    "    y=\"tip\",\n",
    "    kind=\"scatter\",  # Especificamos que es scatter\n",
    "    height=6,        # En figure-level usamos height\n",
    "    aspect=1.67      # aspect = width/height (10/6 ≈ 1.67)\n",
    ")\n",
    "g.fig.suptitle('Relación entre Total de la Cuenta y Propina')\n",
    "plt.show()\n",
    "\n",
    "# Figure-level con categorías\n",
    "g = sns.relplot(\n",
    "    data=tips, \n",
    "    x=\"total_bill\", \n",
    "    y=\"tip\", \n",
    "    hue=\"time\", \n",
    "    style=\"smoker\",\n",
    "    kind=\"scatter\",  # Tipo scatter\n",
    "    height=6,\n",
    "    aspect=1.67\n",
    ")\n",
    "g.fig.suptitle('Relación Total Cuenta vs Propina por Tiempo y Fumador')\n",
    "plt.show()"
   ]
  },
  {
   "cell_type": "markdown",
   "id": "2bc562a4",
   "metadata": {},
   "source": [
    "### 3. Gráfico de Barras"
   ]
  },
  {
   "cell_type": "code",
   "execution_count": null,
   "id": "9f3c9251",
   "metadata": {},
   "outputs": [],
   "source": [
    "# Barplot básico\n",
    "plt.figure(figsize=(10, 6))\n",
    "sns.barplot(x=\"day\", y=\"total_bill\", data=tips)\n",
    "plt.title('Total de Cuenta Promedio por Día')\n",
    "plt.show()\n",
    "\n",
    "# Barplot con categorías\n",
    "plt.figure(figsize=(10, 6))\n",
    "sns.barplot(x=\"day\", y=\"total_bill\", hue=\"sex\", data=tips)\n",
    "plt.title('Total de Cuenta Promedio por Día y Género')\n",
    "plt.show()"
   ]
  },
  {
   "cell_type": "code",
   "execution_count": null,
   "id": "d54c28dd",
   "metadata": {},
   "outputs": [],
   "source": [
    "# Figure-level del barplot básico\n",
    "g = sns.catplot(\n",
    "    data=tips,\n",
    "    x=\"day\", \n",
    "    y=\"total_bill\",\n",
    "    kind=\"bar\",      # Especificamos que es barplot\n",
    "    height=6,        # Altura de la figura\n",
    "    aspect=1.67      # Relación ancho/alto (10/6 ≈ 1.67)\n",
    ")\n",
    "g.fig.suptitle('Total de Cuenta Promedio por Día', y=1.02)\n",
    "g.set_axis_labels(\"Día\", \"Total de Cuenta ($)\")\n",
    "plt.show()\n",
    "\n",
    "# Figure-level con categorías\n",
    "g = sns.catplot(\n",
    "    data=tips,\n",
    "    x=\"day\", \n",
    "    y=\"total_bill\", \n",
    "    hue=\"sex\",       # Categoría por color\n",
    "    kind=\"bar\",      # Tipo barplot\n",
    "    height=6,\n",
    "    aspect=1.67\n",
    ")\n",
    "g.fig.suptitle('Total de Cuenta Promedio por Día y Género', y=1.02)\n",
    "g.set_axis_labels(\"Día\", \"Total de Cuenta ($)\")\n",
    "g.legend.set_title(\"Género\")\n",
    "plt.show()"
   ]
  },
  {
   "cell_type": "markdown",
   "id": "1ddac56d",
   "metadata": {},
   "source": [
    "### 4. Histograma       "
   ]
  },
  {
   "cell_type": "code",
   "execution_count": null,
   "id": "e3da5fe4",
   "metadata": {},
   "outputs": [],
   "source": [
    "# Cargar datos\n",
    "penguins = sns.load_dataset(\"penguins\")\n"
   ]
  },
  {
   "cell_type": "code",
   "execution_count": null,
   "id": "25ddc585",
   "metadata": {},
   "outputs": [],
   "source": [
    "\n",
    "# Histograma básico\n",
    "plt.figure(figsize=(10, 6))\n",
    "sns.histplot(data=penguins, x=\"flipper_length_mm\")\n",
    "plt.title('Distribución de Longitud de Aleta')\n",
    "plt.show()\n",
    "\n",
    "# Histograma con categorías\n",
    "plt.figure(figsize=(10, 6))\n",
    "sns.histplot(data=penguins, x=\"flipper_length_mm\", hue=\"species\", multiple=\"stack\")\n",
    "plt.title('Distribución de Longitud de Aleta por Especie')\n",
    "plt.show()\n"
   ]
  },
  {
   "cell_type": "code",
   "execution_count": null,
   "id": "f629faac",
   "metadata": {},
   "outputs": [],
   "source": [
    "# Figure-level con faceting automático\n",
    "g = sns.displot(\n",
    "    data=penguins,\n",
    "    x=\"flipper_length_mm\", \n",
    "    hue=\"species\",\n",
    "    col=\"species\",      # ¡Crea subgráficos por especie automáticamente!\n",
    "    kind=\"hist\",\n",
    "    height=4,\n",
    "    aspect=1.2\n",
    ")\n",
    "g.fig.suptitle('Distribución de Longitud de Aleta por Especie', y=1.05)\n",
    "plt.show()"
   ]
  },
  {
   "cell_type": "code",
   "execution_count": null,
   "id": "cdddfa95",
   "metadata": {},
   "outputs": [],
   "source": [
    "# KDE en lugar de histograma\n",
    "g = sns.displot(\n",
    "    data=penguins,\n",
    "    x=\"flipper_length_mm\", \n",
    "    hue=\"species\",\n",
    "    kind=\"kde\",         # Gráfico de densidad\n",
    "    height=6,\n",
    "    aspect=1.67\n",
    ")\n",
    "g.fig.suptitle('Densidad de Longitud de Aleta por Especie')\n",
    "plt.show()\n",
    "\n",
    "# ECDF plot\n",
    "g = sns.displot(\n",
    "    data=penguins,\n",
    "    x=\"flipper_length_mm\", \n",
    "    hue=\"species\",\n",
    "    kind=\"ecdf\",        # Función de distribución acumulativa\n",
    "    height=6,\n",
    "    aspect=1.67\n",
    ")\n",
    "g.fig.suptitle('Función de Distribución Acumulativa por Especie')\n",
    "plt.show()"
   ]
  },
  {
   "cell_type": "markdown",
   "id": "7fdc932e",
   "metadata": {},
   "source": [
    "### 5. Boxplot"
   ]
  },
  {
   "cell_type": "code",
   "execution_count": null,
   "id": "3c9c92df",
   "metadata": {},
   "outputs": [],
   "source": [
    "# Boxplot básico\n",
    "plt.figure(figsize=(10, 6))\n",
    "sns.boxplot(x=\"day\", y=\"total_bill\", data=tips)\n",
    "plt.title('Distribución de Total de Cuenta por Día')\n",
    "plt.show()\n",
    "\n",
    "# Boxplot con categorías\n",
    "plt.figure(figsize=(10, 6))\n",
    "sns.boxplot(x=\"day\", y=\"total_bill\", hue=\"sex\", data=tips)\n",
    "plt.title('Distribución de Total de Cuenta por Día y Género')\n",
    "plt.show()\n",
    "\n",
    "# Boxplot para datos de pingüinos\n",
    "plt.figure(figsize=(10, 6))\n",
    "sns.boxplot(data=penguins, x=\"species\", y=\"flipper_length_mm\")\n",
    "plt.title('Distribución de Longitud de Aleta por Especie')\n",
    "plt.show()\n"
   ]
  },
  {
   "cell_type": "code",
   "execution_count": null,
   "id": "d84c6262",
   "metadata": {},
   "outputs": [],
   "source": [
    "# Figure-level del boxplot básico\n",
    "g = sns.catplot(\n",
    "    data=tips,\n",
    "    x=\"day\", \n",
    "    y=\"total_bill\",\n",
    "    kind=\"box\",        # Especificamos que es boxplot\n",
    "    height=6,          # Altura de la figura\n",
    "    aspect=1.67        # Relación ancho/alto (10/6 ≈ 1.67)\n",
    ")\n",
    "g.fig.suptitle('Distribución de Total de Cuenta por Día', y=1.02)\n",
    "g.set_axis_labels(\"Día\", \"Total de Cuenta ($)\")\n",
    "plt.show()\n",
    "\n",
    "# Figure-level con categorías\n",
    "g = sns.catplot(\n",
    "    data=tips,\n",
    "    x=\"day\", \n",
    "    y=\"total_bill\", \n",
    "    hue=\"sex\",         # Categoría por color\n",
    "    kind=\"box\",        # Tipo boxplot\n",
    "    height=6,\n",
    "    aspect=1.67\n",
    ")\n",
    "g.fig.suptitle('Distribución de Total de Cuenta por Día y Género', y=1.02)\n",
    "g.set_axis_labels(\"Día\", \"Total de Cuenta ($)\")\n",
    "g.legend.set_title(\"Género\")\n",
    "plt.show()\n",
    "\n",
    "# Figure-level para pingüinos\n",
    "g = sns.catplot(\n",
    "    data=penguins,\n",
    "    x=\"species\", \n",
    "    y=\"flipper_length_mm\",\n",
    "    kind=\"box\",        # Tipo boxplot\n",
    "    height=6,\n",
    "    aspect=1.67\n",
    ")\n",
    "g.fig.suptitle('Distribución de Longitud de Aleta por Especie', y=1.02)\n",
    "g.set_axis_labels(\"Especie\", \"Longitud de Aleta (mm)\")\n",
    "plt.show()\n",
    "\n",
    "\n",
    "# Figure-level con faceting automático\n",
    "g = sns.catplot(\n",
    "    data=tips,\n",
    "    x=\"day\", \n",
    "    y=\"total_bill\", \n",
    "    hue=\"sex\",\n",
    "    col=\"time\",        # ¡Crea subgráficos por tiempo automáticamente!\n",
    "    kind=\"box\",\n",
    "    height=5,\n",
    "    aspect=1.2\n",
    ")\n",
    "g.fig.suptitle('Distribución de Total de Cuenta por Día, Género y Tiempo', y=1.05)\n",
    "plt.show()\n"
   ]
  },
  {
   "cell_type": "code",
   "execution_count": null,
   "id": "02349670",
   "metadata": {},
   "outputs": [],
   "source": [
    "# Boxplot con swarmplot superpuesto\n",
    "g = sns.catplot(\n",
    "    data=penguins,\n",
    "    x=\"species\", \n",
    "    y=\"flipper_length_mm\",\n",
    "    kind=\"box\",\n",
    "    height=6,\n",
    "    aspect=1.67\n",
    ")\n",
    "# Podemos añadir más elementos al axes\n",
    "sns.swarmplot(\n",
    "    data=penguins,\n",
    "    x=\"species\", \n",
    "    y=\"flipper_length_mm\",\n",
    "    color=\".25\",\n",
    "    ax=g.ax\n",
    ")\n",
    "g.fig.suptitle('Boxplot con Swarmplot Superpuesto')\n",
    "plt.show()\n",
    "\n",
    "# Violin plot (alternativa al boxplot)\n",
    "g = sns.catplot(\n",
    "    data=penguins,\n",
    "    x=\"species\", \n",
    "    y=\"flipper_length_mm\",\n",
    "    kind=\"violin\",     # Violin plot en lugar de boxplot\n",
    "    height=6,\n",
    "    aspect=1.67\n",
    ")\n",
    "g.fig.suptitle('Distribución con Violin Plot por Especie')\n",
    "plt.show()"
   ]
  },
  {
   "cell_type": "markdown",
   "id": "c2ab139d",
   "metadata": {},
   "source": [
    "### 6. Gráficos con Subplots y FacetGrid\n"
   ]
  },
  {
   "cell_type": "code",
   "execution_count": null,
   "id": "4bd37af3",
   "metadata": {},
   "outputs": [],
   "source": [
    "# FacetGrid para múltiples gráficos\n",
    "g = sns.FacetGrid(tips, col=\"time\", row=\"smoker\")\n",
    "g.map(sns.scatterplot, \"total_bill\", \"tip\")\n",
    "g.add_legend()\n",
    "plt.show()\n",
    "\n",
    "# Displot con facetas\n",
    "sns.displot(data=penguins, x=\"flipper_length_mm\", hue=\"species\", col=\"species\")\n",
    "plt.show()\n",
    "\n",
    "\n"
   ]
  },
  {
   "cell_type": "markdown",
   "id": "8dd99858",
   "metadata": {},
   "source": [
    "### 7. Pair Plot (Gráfico de Pares)"
   ]
  },
  {
   "cell_type": "code",
   "execution_count": null,
   "id": "b4615379",
   "metadata": {},
   "outputs": [],
   "source": [
    "# Pair plot para ver relaciones múltiples\n",
    "sns.pairplot(penguins.dropna(), hue=\"species\")\n",
    "plt.show()\n"
   ]
  },
  {
   "cell_type": "markdown",
   "id": "97203f73",
   "metadata": {},
   "source": [
    "### 8. Heatmap (Mapa de Calor)"
   ]
  },
  {
   "cell_type": "code",
   "execution_count": null,
   "id": "d408bfd1",
   "metadata": {},
   "outputs": [],
   "source": [
    "\n",
    "# Matriz de correlación\n",
    "correlation = tips[['total_bill', 'tip', 'size']].corr()\n",
    "\n",
    "plt.figure(figsize=(8, 6))\n",
    "sns.heatmap(correlation, annot=True, cmap='coolwarm', center=0)\n",
    "plt.title('Matriz de Correlación')\n",
    "plt.show()\n"
   ]
  },
  {
   "cell_type": "markdown",
   "id": "100b1226",
   "metadata": {},
   "source": [
    "### 9. Violin Plot"
   ]
  },
  {
   "cell_type": "code",
   "execution_count": null,
   "id": "580d48d6",
   "metadata": {},
   "outputs": [],
   "source": [
    "# Violin plot\n",
    "plt.figure(figsize=(10, 6))\n",
    "sns.violinplot(x=\"day\", y=\"total_bill\", hue=\"sex\", data=tips, split=True)\n",
    "plt.title('Distribución de Total de Cuenta por Día y Género')\n",
    "plt.show()\n"
   ]
  },
  {
   "cell_type": "code",
   "execution_count": null,
   "id": "c6b8543b",
   "metadata": {},
   "outputs": [],
   "source": [
    "g = sns.catplot(\n",
    "    data=tips,\n",
    "    x=\"day\", \n",
    "    y=\"total_bill\", \n",
    "    hue=\"sex\",\n",
    "    col=\"sex\",        # Faceting por sexo - ¡esto sí funciona en figure-level!\n",
    "    kind=\"violin\",    # Tipo violin plot\n",
    "    # split=True,       # Split para mostrar ambos géneros en cada violín\n",
    "    height=6,\n",
    "    aspect=1.0\n",
    ")\n",
    "g.fig.suptitle('Distribución de Total de Cuenta por Día y Género', y=1.02)\n",
    "plt.show()"
   ]
  },
  {
   "cell_type": "code",
   "execution_count": null,
   "id": "a316e8e3",
   "metadata": {},
   "outputs": [],
   "source": [
    "# Figure-level sin faceting\n",
    "g = sns.catplot(\n",
    "    data=tips,\n",
    "    x=\"day\", \n",
    "    y=\"total_bill\", \n",
    "    hue=\"sex\",\n",
    "    kind=\"violin\",    # Tipo violin plot\n",
    "    split=True,       # Split para mostrar ambos géneros en cada violín\n",
    "    height=6,\n",
    "    aspect=1.67\n",
    ")\n",
    "g.fig.suptitle('Distribución de Total de Cuenta por Día y Género', y=1.02)\n",
    "g.set_axis_labels(\"Día\", \"Total de Cuenta ($)\")\n",
    "plt.show()"
   ]
  },
  {
   "cell_type": "markdown",
   "id": "cff9aa2c",
   "metadata": {},
   "source": [
    "### 10. Gráfico de Densidad (KDE)"
   ]
  },
  {
   "cell_type": "code",
   "execution_count": null,
   "id": "5f83eb2e",
   "metadata": {},
   "outputs": [],
   "source": [
    "\n",
    "# KDE plot\n",
    "plt.figure(figsize=(10, 6))\n",
    "sns.kdeplot(data=penguins, x=\"flipper_length_mm\", hue=\"species\", fill=True)\n",
    "plt.title('Densidad de Longitud de Aleta por Especie')\n",
    "plt.show()\n"
   ]
  },
  {
   "cell_type": "code",
   "execution_count": null,
   "id": "645db83e",
   "metadata": {},
   "outputs": [],
   "source": [
    "## Personalización de Gráficos\n",
    "\n",
    "# Personalizar estilo\n",
    "sns.set_style(\"darkgrid\")\n",
    "sns.set_palette(\"husl\")\n",
    "\n",
    "# Personalización avanzada\n",
    "sns.set_style(rc={\n",
    "    \"grid.color\": \".6\",\n",
    "    \"grid.linestyle\": \":\",\n",
    "    \"axes.titlecolor\": \"blue\",\n",
    "    \"axes.labelcolor\": \"red\"\n",
    "})\n",
    "\n",
    "# Ejemplo con personalización\n",
    "plt.figure(figsize=(12, 8))\n",
    "scatter = sns.scatterplot(data=tips, x=\"total_bill\", y=\"tip\", \n",
    "                         hue=\"size\", size=\"size\", sizes=(20, 200))\n",
    "plt.title('Relación entre Cuenta y Propina', fontsize=16, fontweight='bold')\n",
    "plt.xlabel('Total de la Cuenta ($)', fontsize=12)\n",
    "plt.ylabel('Propina ($)', fontsize=12)\n",
    "plt.legend(title='Tamaño del Grupo')\n",
    "plt.show()\n",
    "\n",
    "# Restablecer configuración por defecto\n",
    "sns.reset_orig()\n"
   ]
  },
  {
   "cell_type": "code",
   "execution_count": null,
   "id": "01a319b1",
   "metadata": {},
   "outputs": [],
   "source": [
    "##  Figure Level\n",
    "\n",
    "# Personalizar estilo (funciona igual para ambos niveles)\n",
    "sns.set_style(\"darkgrid\")\n",
    "sns.set_palette(\"husl\")\n",
    "\n",
    "# Personalización avanzada del estilo\n",
    "sns.set_style(rc={\n",
    "    \"grid.color\": \".6\",\n",
    "    \"grid.linestyle\": \":\",\n",
    "    \"axes.titlecolor\": \"blue\",\n",
    "    \"axes.labelcolor\": \"red\"\n",
    "})\n",
    "\n",
    "# Ejemplo con personalización - Figure Level\n",
    "g = sns.relplot(\n",
    "    data=tips, \n",
    "    x=\"total_bill\", \n",
    "    y=\"tip\",\n",
    "    hue=\"size\", \n",
    "    size=\"size\", \n",
    "    sizes=(20, 200),\n",
    "    kind=\"scatter\",    # Especificamos scatter plot\n",
    "    height=8,          # Altura equivalente a figsize(12, 8)\n",
    "    aspect=1.5         # aspect = width/height (12/8 = 1.5)\n",
    ")\n",
    "\n",
    "# Personalización específica para Figure-level\n",
    "g.fig.suptitle('Relación entre Cuenta y Propina', \n",
    "               fontsize=16, fontweight='bold', y=1.02)\n",
    "g.set_axis_labels('Total de la Cuenta ($)', 'Propina ($)', fontsize=12)\n",
    "\n",
    "# Personalizar la leyenda\n",
    "g._legend.set_title('Tamaño del Grupo')\n",
    "plt.setp(g._legend.get_title(), fontweight='bold')\n",
    "\n",
    "plt.tight_layout()\n",
    "plt.show()\n",
    "\n",
    "# Restablecer configuración por defecto\n",
    "sns.reset_orig()"
   ]
  }
 ],
 "metadata": {
  "kernelspec": {
   "display_name": "86400-data-science-i-diplomatura",
   "language": "python",
   "name": "python3"
  },
  "language_info": {
   "codemirror_mode": {
    "name": "ipython",
    "version": 3
   },
   "file_extension": ".py",
   "mimetype": "text/x-python",
   "name": "python",
   "nbconvert_exporter": "python",
   "pygments_lexer": "ipython3",
   "version": "3.11.2"
  }
 },
 "nbformat": 4,
 "nbformat_minor": 5
}
