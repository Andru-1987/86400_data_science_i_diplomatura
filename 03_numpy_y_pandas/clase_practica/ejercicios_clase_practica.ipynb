{
 "cells": [
  {
   "cell_type": "markdown",
   "id": "44dc61b6",
   "metadata": {},
   "source": [
    "## Manipulacion de datos con series y dataframes"
   ]
  },
  {
   "cell_type": "code",
   "execution_count": null,
   "id": "fb883907",
   "metadata": {},
   "outputs": [],
   "source": [
    "import numpy as np\n",
    "import matplotlib.pyplot as plt"
   ]
  },
  {
   "cell_type": "code",
   "execution_count": null,
   "id": "3375a026",
   "metadata": {},
   "outputs": [],
   "source": [
    "array_simple = np.array([\n",
    "    1,3,5,7,9,.96\n",
    "])\n"
   ]
  },
  {
   "cell_type": "code",
   "execution_count": null,
   "id": "ed0264e9",
   "metadata": {},
   "outputs": [],
   "source": [
    "array_simple.dtype"
   ]
  },
  {
   "cell_type": "code",
   "execution_count": null,
   "id": "dbadf570",
   "metadata": {},
   "outputs": [],
   "source": [
    "array_simple.mean()"
   ]
  },
  {
   "cell_type": "code",
   "execution_count": null,
   "id": "8747203b",
   "metadata": {},
   "outputs": [],
   "source": [
    "array_simple.reshape(2,3)"
   ]
  },
  {
   "cell_type": "code",
   "execution_count": null,
   "id": "ef501701",
   "metadata": {},
   "outputs": [],
   "source": [
    "matriz = array_simple.reshape(3,2)"
   ]
  },
  {
   "cell_type": "code",
   "execution_count": null,
   "id": "0e71472c",
   "metadata": {},
   "outputs": [],
   "source": [
    "matriz"
   ]
  },
  {
   "cell_type": "code",
   "execution_count": null,
   "id": "07df65a4",
   "metadata": {},
   "outputs": [],
   "source": [
    "matriz.diagonal()"
   ]
  },
  {
   "cell_type": "code",
   "execution_count": null,
   "id": "8b0389e8",
   "metadata": {},
   "outputs": [],
   "source": [
    "rad = np.linspace(0,2*np.pi, 100)\n",
    "rad"
   ]
  },
  {
   "cell_type": "code",
   "execution_count": null,
   "id": "de2482a7",
   "metadata": {},
   "outputs": [],
   "source": [
    "plt.plot(np.sin(rad),np.cos(rad))\n",
    "plt.show()"
   ]
  },
  {
   "cell_type": "code",
   "execution_count": null,
   "id": "393af484",
   "metadata": {},
   "outputs": [],
   "source": [
    "plt.plot(rad, np.sin(rad))\n",
    "plt.plot(rad, np.cos(rad))"
   ]
  },
  {
   "cell_type": "code",
   "execution_count": null,
   "id": "d244600f",
   "metadata": {},
   "outputs": [],
   "source": [
    "base = np.random.seed(46)"
   ]
  },
  {
   "cell_type": "code",
   "execution_count": null,
   "id": "f9b702bb",
   "metadata": {},
   "outputs": [],
   "source": [
    "x = np.linspace(0,10,50)\n",
    "y = 2.5 * x + np.random.normal(size = x.size)"
   ]
  },
  {
   "cell_type": "code",
   "execution_count": null,
   "id": "bfce3dd8",
   "metadata": {},
   "outputs": [],
   "source": [
    "# para hacer una regresion lineal --> que matematicamente se obtiene por medio de la tecnica de cuadrados minimos\n",
    "\n",
    "# Supón que tienes tus datos en x e y\n",
    "A = np.vstack([x, np.ones(len(x))]).T\n",
    "m, c = np.linalg.lstsq(A, y, rcond=None)[0]\n",
    "\n",
    "pendiente=m*x + c"
   ]
  },
  {
   "cell_type": "code",
   "execution_count": null,
   "id": "ea86325e",
   "metadata": {},
   "outputs": [],
   "source": [
    "plt.plot(x,pendiente,'r', label = 'Regresion lineal')\n",
    "plt.scatter(x,y,label=\"Datos\")\n",
    "plt.xlabel('x')\n",
    "plt.ylabel('y')\n",
    "plt.title('Regresión Lineal con NumPy')\n",
    "plt.legend()\n",
    "plt.grid(True)\n",
    "plt.show()"
   ]
  },
  {
   "cell_type": "markdown",
   "id": "b864ee82",
   "metadata": {},
   "source": [
    "---"
   ]
  },
  {
   "cell_type": "markdown",
   "id": "a4661ee8",
   "metadata": {},
   "source": [
    "# Hands on lab"
   ]
  },
  {
   "cell_type": "code",
   "execution_count": null,
   "id": "f3ed2f46",
   "metadata": {},
   "outputs": [],
   "source": [
    "url_csv = \"https://raw.githubusercontent.com/JJTorresDS/stocks-ds-edu/main/stocks.csv\""
   ]
  },
  {
   "cell_type": "code",
   "execution_count": null,
   "id": "e0b609f9",
   "metadata": {},
   "outputs": [],
   "source": [
    "# lectura de archivo \n",
    "import pandas as pd"
   ]
  },
  {
   "cell_type": "code",
   "execution_count": null,
   "id": "464c61d1",
   "metadata": {},
   "outputs": [],
   "source": [
    "stocks = pd.read_csv(url_csv, sep=\",\")\n",
    "stocks.head()"
   ]
  },
  {
   "cell_type": "code",
   "execution_count": null,
   "id": "75c22a3e",
   "metadata": {},
   "outputs": [],
   "source": [
    "nombres_map = {\n",
    "    'MCD': 'McDonalds',\n",
    "    'SBUX': 'Starbucks',\n",
    "    'GOOG': 'Google',\n",
    "    'AMZN': 'Amazon',\n",
    "    'MSFT': 'Microsoft',\n",
    "    'JPM': 'JPMorgan',\n",
    "    'BAC': 'BankOfAmerica',\n",
    "    'C': 'Citigroup',\n",
    "    'MAR': 'Marriott',\n",
    "    'HLT': 'Hilton',\n",
    "    'RCL': 'RoyalCaribbean',\n",
    "    'V': 'Visa',\n",
    "    'MA': 'Mastercard',\n",
    "    'PYPL': 'PayPal'\n",
    "}\n",
    "\n",
    "# Renombrar columnas\n",
    "stocks = stocks.rename(columns=nombres_map)\n"
   ]
  },
  {
   "cell_type": "code",
   "execution_count": null,
   "id": "37a31423",
   "metadata": {},
   "outputs": [],
   "source": [
    "stocks"
   ]
  },
  {
   "cell_type": "code",
   "execution_count": null,
   "id": "2ff149cc",
   "metadata": {},
   "outputs": [],
   "source": [
    "stocks['dates'] = pd.to_datetime(stocks['formatted_date'])\n",
    "stocks = stocks.set_index('dates')\n",
    "stocks.drop(columns=[\"formatted_date\"],inplace=True)"
   ]
  },
  {
   "cell_type": "code",
   "execution_count": null,
   "id": "34809c58",
   "metadata": {},
   "outputs": [],
   "source": [
    "stocks.head()"
   ]
  },
  {
   "cell_type": "code",
   "execution_count": null,
   "id": "15067251",
   "metadata": {},
   "outputs": [],
   "source": [
    "stocks.tail()"
   ]
  },
  {
   "cell_type": "markdown",
   "id": "3beced2d",
   "metadata": {},
   "source": [
    "## Stocks grafica"
   ]
  },
  {
   "cell_type": "code",
   "execution_count": null,
   "id": "82da5748",
   "metadata": {},
   "outputs": [],
   "source": [
    "colors = ['blue', 'orange', 'green', 'red', 'purple', 'brown', 'pink', 'gray', 'olive', 'cyan', 'magenta', 'yellow', 'black', 'teal']"
   ]
  },
  {
   "cell_type": "code",
   "execution_count": null,
   "id": "f905b7da",
   "metadata": {},
   "outputs": [],
   "source": [
    "# size de la imagen\n",
    "plt.figure(figsize=(16, 9))\n",
    "plt.gca().set_prop_cycle(color=colors)\n",
    "\n",
    "for column in stocks.columns:\n",
    "    plt.plot(\n",
    "        stocks.index,\n",
    "        stocks[column],\n",
    "        label=column\n",
    "    )\n",
    "# Graficas elemetnos\n",
    "plt.title('Cotizaciones de Acciones')\n",
    "plt.xlabel('Fecha')\n",
    "plt.ylabel('Precio')\n",
    "plt.legend(loc='upper left', bbox_to_anchor=(1, 1))\n",
    "plt.grid(True)\n",
    "plt.tight_layout()\n",
    "plt.show()"
   ]
  },
  {
   "cell_type": "code",
   "execution_count": null,
   "id": "f3223e4f",
   "metadata": {},
   "outputs": [],
   "source": [
    "stocks.iloc[-1, 1:]"
   ]
  },
  {
   "cell_type": "code",
   "execution_count": null,
   "id": "f8df28f2",
   "metadata": {},
   "outputs": [],
   "source": [
    "stocks.iloc[0, 1:]"
   ]
  },
  {
   "cell_type": "code",
   "execution_count": null,
   "id": "2dae0ece",
   "metadata": {},
   "outputs": [],
   "source": [
    "# Calcular rendimiento total\n",
    "rendimientos = (stocks.iloc[-1, 1:] - stocks.iloc[0, 1:]) / stocks.iloc[0, 1:]\n"
   ]
  },
  {
   "cell_type": "code",
   "execution_count": null,
   "id": "052e7e75",
   "metadata": {},
   "outputs": [],
   "source": [
    "acciones_recomendadas = rendimientos.sort_values(ascending=False).head(2)\n",
    "print(acciones_recomendadas)"
   ]
  },
  {
   "cell_type": "markdown",
   "id": "94ce7a6e",
   "metadata": {},
   "source": [
    "---"
   ]
  },
  {
   "cell_type": "code",
   "execution_count": null,
   "id": "c732349e",
   "metadata": {},
   "outputs": [],
   "source": [
    "returns = stocks.pct_change().dropna()"
   ]
  }
 ],
 "metadata": {
  "kernelspec": {
   "display_name": "Python 3",
   "language": "python",
   "name": "python3"
  },
  "language_info": {
   "codemirror_mode": {
    "name": "ipython",
    "version": 3
   },
   "file_extension": ".py",
   "mimetype": "text/x-python",
   "name": "python",
   "nbconvert_exporter": "python",
   "pygments_lexer": "ipython3",
   "version": "3.13.3"
  }
 },
 "nbformat": 4,
 "nbformat_minor": 5
}
