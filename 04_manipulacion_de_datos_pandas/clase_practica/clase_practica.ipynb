{
 "cells": [
  {
   "cell_type": "markdown",
   "id": "3244c5cd",
   "metadata": {},
   "source": [
    "## Metodos de agrupacion"
   ]
  },
  {
   "cell_type": "code",
   "execution_count": null,
   "id": "68bdb3bf",
   "metadata": {},
   "outputs": [],
   "source": [
    "import pandas as pd\n",
    "import numpy as np"
   ]
  },
  {
   "cell_type": "code",
   "execution_count": null,
   "id": "1a328dbd",
   "metadata": {},
   "outputs": [],
   "source": [
    "pune_dataset:str = r\"../datasets/pune_1965_to_2002.csv\"\n",
    "pune_df = pd.read_csv(pune_dataset)\n",
    "pune_df.head()"
   ]
  },
  {
   "cell_type": "code",
   "execution_count": null,
   "id": "d5926506",
   "metadata": {},
   "outputs": [],
   "source": [
    "pune_df.Year = pd.to_datetime(pune_df.Year, format=\"%Y\").dt.to_period('Y')"
   ]
  },
  {
   "cell_type": "code",
   "execution_count": null,
   "id": "300acd24",
   "metadata": {},
   "outputs": [],
   "source": [
    "pune_df.set_index(\"Year\",inplace=True)\n"
   ]
  },
  {
   "cell_type": "code",
   "execution_count": null,
   "id": "2a19fc58",
   "metadata": {},
   "outputs": [],
   "source": [
    "months_to_work = ['Jan','Feb','Mar']"
   ]
  },
  {
   "cell_type": "code",
   "execution_count": null,
   "id": "32f2a304",
   "metadata": {},
   "outputs": [],
   "source": [
    "(\n",
    "pune_df\n",
    " .groupby(level=0)[months_to_work]\n",
    " .mean()\n",
    " .head(5)\n",
    ")"
   ]
  },
  {
   "cell_type": "code",
   "execution_count": null,
   "id": "b9e19474",
   "metadata": {},
   "outputs": [],
   "source": [
    "# Otra forma de setear los meses\n",
    "(pune_df\n",
    " .groupby(level=0)\n",
    " .mean()\n",
    " .reset_index()\n",
    " .set_index('Year')).head()"
   ]
  },
  {
   "cell_type": "markdown",
   "id": "6e4f650e",
   "metadata": {},
   "source": [
    "## Tratamiento de strings & limpieza usando opciones de string"
   ]
  },
  {
   "cell_type": "code",
   "execution_count": null,
   "id": "3c9b675b",
   "metadata": {},
   "outputs": [],
   "source": [
    "presidents_df = pd.read_csv(\n",
    "\"https://docs.google.com/spreadsheets/d/e/2PACX-1vRj1KjW_raDRzdMieSzaAvyKtl2ub8Y6zM9X-4rhIB9C3NG-whBjTzj6UVTGo6qJ4fUT7x7SiCSW83u/pub?gid=1795471360&single=true&output=csv\"\n",
    ")"
   ]
  },
  {
   "cell_type": "code",
   "execution_count": null,
   "id": "54bc27c0",
   "metadata": {},
   "outputs": [],
   "source": [
    "presidents_df.head()"
   ]
  },
  {
   "cell_type": "code",
   "execution_count": null,
   "id": "d14645bc",
   "metadata": {},
   "outputs": [],
   "source": [
    "presidents_df_clean = presidents_df.iloc[:,2:]"
   ]
  },
  {
   "cell_type": "code",
   "execution_count": null,
   "id": "a4914af9",
   "metadata": {},
   "outputs": [],
   "source": [
    "FORMAT = \"%B %d, %Y\"\n",
    "presidents_df_clean[\"start\"]= pd.to_datetime(presidents_df_clean[\"start\"],format=FORMAT,errors=\"coerce\")\n",
    "presidents_df_clean[\"end\"]= pd.to_datetime(presidents_df_clean[\"end\"],format=FORMAT,errors=\"coerce\")"
   ]
  },
  {
   "cell_type": "code",
   "execution_count": null,
   "id": "fe49e9b7",
   "metadata": {},
   "outputs": [],
   "source": [
    "presidents_df_clean.head()"
   ]
  },
  {
   "cell_type": "code",
   "execution_count": null,
   "id": "fbb6401f",
   "metadata": {},
   "outputs": [],
   "source": [
    "presidents_df_clean.president.str.upper().sample(10)"
   ]
  },
  {
   "cell_type": "code",
   "execution_count": null,
   "id": "5a66a8a1",
   "metadata": {},
   "outputs": [],
   "source": [
    "presidents_df_clean.president.str.len().sample(10)"
   ]
  },
  {
   "cell_type": "code",
   "execution_count": null,
   "id": "0cdb3990",
   "metadata": {},
   "outputs": [],
   "source": [
    "presidents_df_clean.president.str.split().sample(10)"
   ]
  },
  {
   "cell_type": "code",
   "execution_count": null,
   "id": "169030c6",
   "metadata": {},
   "outputs": [],
   "source": [
    "presidents_df_clean.loc[presidents_df_clean.president.str.startswith('H')]"
   ]
  },
  {
   "cell_type": "markdown",
   "id": "1d4b8c49",
   "metadata": {},
   "source": [
    "# Graficos"
   ]
  },
  {
   "cell_type": "markdown",
   "id": "66780ec1",
   "metadata": {},
   "source": [
    "### Lineas --> plot"
   ]
  },
  {
   "cell_type": "code",
   "execution_count": null,
   "id": "d4e2c432",
   "metadata": {},
   "outputs": [],
   "source": [
    "import matplotlib.pyplot as plt\n",
    "# 'bmh' style\n",
    "plt.style.use('bmh')"
   ]
  },
  {
   "cell_type": "code",
   "execution_count": null,
   "id": "516f039a",
   "metadata": {},
   "outputs": [],
   "source": [
    "x = np.linspace(0, 10, 100)\n",
    "df = pd.DataFrame({\n",
    "    \"x\": x,\n",
    "    \"y\": np.sin(x)\n",
    "})\n"
   ]
  },
  {
   "cell_type": "code",
   "execution_count": null,
   "id": "38d1a372",
   "metadata": {},
   "outputs": [],
   "source": [
    "\n",
    "plt.plot(\n",
    "    df.x,\n",
    "    df.y\n",
    ")\n",
    "\n",
    "plt.title(\"Plot with 'bmh' style\")\n",
    "plt.xlabel(\"Axis X\")\n",
    "plt.ylabel(\"Axis Y\")\n",
    "plt.show()"
   ]
  },
  {
   "cell_type": "markdown",
   "id": "4d346b4d",
   "metadata": {},
   "source": [
    "### Ejemplo real con data de pune"
   ]
  },
  {
   "cell_type": "code",
   "execution_count": null,
   "id": "8607c6c3",
   "metadata": {},
   "outputs": [],
   "source": [
    "from random import randint"
   ]
  },
  {
   "cell_type": "code",
   "execution_count": null,
   "id": "f81f0dff",
   "metadata": {},
   "outputs": [],
   "source": [
    "presidents_df_clean[\"voters\"] = presidents_df_clean.president.str.len() * randint(8_000,10_000)"
   ]
  },
  {
   "cell_type": "code",
   "execution_count": null,
   "id": "1a3663e4",
   "metadata": {},
   "outputs": [],
   "source": [
    "columns_to_keep = [\"start\", \"voters\"]\n",
    "data_to_plot = presidents_df_clean[columns_to_keep]"
   ]
  },
  {
   "cell_type": "code",
   "execution_count": null,
   "id": "c47e7fdf",
   "metadata": {},
   "outputs": [],
   "source": [
    "data_to_plot.set_index(\"start\",inplace=True)"
   ]
  },
  {
   "cell_type": "code",
   "execution_count": null,
   "id": "272ba812",
   "metadata": {},
   "outputs": [],
   "source": [
    "plt.plot(data_to_plot.index, data_to_plot['voters'])\n",
    "plt.title(\"Votantes por cada president\")\n",
    "\n",
    "plt.xlabel(\"Years\")\n",
    "plt.ylabel(\"Votantes\")\n",
    "\n",
    "plt.xticks(rotation=45)\n",
    "plt.show()"
   ]
  },
  {
   "cell_type": "markdown",
   "id": "d4ac49c7",
   "metadata": {},
   "source": [
    "### ScatterPlots"
   ]
  },
  {
   "cell_type": "code",
   "execution_count": null,
   "id": "21640204",
   "metadata": {},
   "outputs": [],
   "source": [
    "# Sample data\n",
    "x = np.array([1, 2, 3, 4, 5])\n",
    "y = np.array([2, 5, 3, 6, 4])\n",
    "\n",
    "# Create the scatter plot\n",
    "plt.scatter(x, y)\n",
    "\n",
    "# Add labels and title (optional)\n",
    "plt.xlabel(\"X-axis Label\")\n",
    "plt.ylabel(\"Y-axis Label\")\n",
    "plt.title(\"Simple Scatter Plot\")\n",
    "\n",
    "# Display the plot\n",
    "plt.show()"
   ]
  },
  {
   "cell_type": "code",
   "execution_count": null,
   "id": "d22dcd30",
   "metadata": {},
   "outputs": [],
   "source": [
    "plt.scatter(pune_df.index.year, pune_df.Jan)\n",
    "\n",
    "plt.title(f'Mes: Enero', fontweight='bold')\n",
    "plt.xlabel('Año')\n",
    "plt.ylabel('Milímetros')\n",
    "plt.xticks(rotation=45)\n",
    "plt.grid(True, alpha=0.3)"
   ]
  },
  {
   "cell_type": "code",
   "execution_count": null,
   "id": "0c1de9a2",
   "metadata": {},
   "outputs": [],
   "source": [
    "plt.figure(figsize=(16, 9))\n",
    "\n",
    "min_size, max_size = 50, 500\n",
    "\n",
    "# Normalizar los tamaños usando logaritmo para mejor visualización\n",
    "log_voters = np.log(presidents_df_clean.voters)\n",
    "sizes = (log_voters - log_voters.min()) / (log_voters.max() - log_voters.min()) * (max_size - min_size) + min_size\n",
    "\n",
    "scatter = plt.scatter(\n",
    "    presidents_df_clean.start,\n",
    "    presidents_df_clean.voters,\n",
    "    s=sizes,\n",
    "    c=presidents_df_clean.voters,\n",
    "    alpha=0.7\n",
    ")\n",
    "\n",
    "plt.colorbar(scatter, label='Número de Votantes')\n",
    "plt.title('Votantes por Periodo Presidencial', fontweight='bold', fontsize=14)\n",
    "plt.xlabel('Fecha de Inicio')\n",
    "plt.ylabel('Número de Votantes')\n",
    "plt.xticks(rotation=45)\n",
    "plt.grid(True)\n",
    "\n",
    "\n",
    "plt.tight_layout()\n",
    "plt.show()\n"
   ]
  },
  {
   "cell_type": "code",
   "execution_count": null,
   "id": "762de1b6",
   "metadata": {},
   "outputs": [],
   "source": [
    "# meses = ['Jan', 'Feb', 'Mar', 'Apr', 'May', 'Jun', \n",
    "#          'Jul', 'Aug', 'Sep', 'Oct', 'Nov', 'Dec']\n",
    "\n",
    "\n",
    "meses = ['Jan', 'Feb']\n",
    "colors = ['red', 'green']\n",
    "\n",
    "# Nombres completos en español\n",
    "map_meses = {\n",
    "    'Jan': 'Enero',\n",
    "    'Feb': 'Febrero', \n",
    "    'Mar': 'Marzo',\n",
    "    'Apr': 'Abril',\n",
    "    'May': 'Mayo',\n",
    "    'Jun': 'Junio',\n",
    "    'Jul': 'Julio',\n",
    "    'Aug': 'Agosto',\n",
    "    'Sep': 'Septiembre',\n",
    "    'Oct': 'Octubre',\n",
    "    'Nov': 'Noviembre',\n",
    "    'Dec': 'Diciembre'\n",
    "}\n",
    "\n",
    "plt.figure(figsize=(16, 9))\n",
    "\n",
    "# # Suptitle con fuente más grande\n",
    "# plt.suptitle(\"Precipitaciones por Fechas - Pune\", fontsize=16, fontweight='bold')\n",
    "\n",
    "# for i, mes in enumerate(meses, 1):\n",
    "#     plt.subplot(3, 4, i)\n",
    "#     plt.scatter(pune_df.index.year, pune_df[mes], alpha=0.7)\n",
    "\n",
    "#     plt.title(f'Mes: {map_meses[mes]}', fontweight='bold')\n",
    "#     plt.xlabel('Año')\n",
    "#     plt.ylabel('Milímetros')\n",
    "#     plt.xticks(rotation=45)\n",
    "#     plt.grid(True, alpha=0.3)\n",
    "\n",
    "# plt.tight_layout()\n",
    "# plt.show()\n",
    "\n",
    "## Opcion solo seteo de legend\n",
    "\n",
    "plt.suptitle(\"Precipitaciones Mensuales - Pune\", fontsize=16, fontweight='bold')\n",
    "\n",
    "# Graficar todos los meses en un solo gráfico\n",
    "for i, mes in enumerate(meses):\n",
    "    plt.scatter(pune_df.index.year, pune_df[mes], \n",
    "                alpha=0.7, \n",
    "                s=60,\n",
    "                color=colors[i],\n",
    "                label=map_meses[mes])\n",
    "\n",
    "plt.xlabel('Año', fontweight='bold')\n",
    "plt.ylabel('Milimetros', fontweight='bold')\n",
    "plt.xticks(rotation=45)\n",
    "plt.grid(True, alpha=0.3)\n",
    "\n",
    "# # Leyenda fuera del gráfico\n",
    "# plt.legend(bbox_to_anchor=(1.05, 1), loc='upper left', \n",
    "#            title='Meses', title_fontsize=12,\n",
    "#            frameon=True, fancybox=True, shadow=True)\n",
    "\n",
    "plt.legend()\n",
    "\n",
    "plt.tight_layout()\n",
    "plt.show()"
   ]
  },
  {
   "cell_type": "markdown",
   "id": "98f8b2e9",
   "metadata": {},
   "source": [
    "### BarPlots"
   ]
  },
  {
   "cell_type": "code",
   "execution_count": null,
   "id": "f7d51914",
   "metadata": {},
   "outputs": [],
   "source": [
    "# Data for the bar chart\n",
    "categories = ['Category A', 'Category B', 'Category C', 'Category D']\n",
    "values = [25, 40, 30, 55]\n",
    "\n",
    "# Create the bar chart\n",
    "plt.bar(categories, values)\n",
    "\n",
    "# Add labels and a title\n",
    "plt.xlabel('Categories')\n",
    "plt.ylabel('Values')\n",
    "plt.title('Simple Bar Chart')\n",
    "\n",
    "# Display the plot\n",
    "plt.show()"
   ]
  },
  {
   "cell_type": "code",
   "execution_count": null,
   "id": "28351687",
   "metadata": {},
   "outputs": [],
   "source": [
    "top_presidents_by_voters = (\n",
    "    presidents_df_clean\n",
    "    .groupby(\"president\")[\"voters\"]\n",
    "    .sum()\n",
    "    .nlargest(3)\n",
    "    .index\n",
    ")"
   ]
  },
  {
   "cell_type": "code",
   "execution_count": null,
   "id": "45b63e56",
   "metadata": {},
   "outputs": [],
   "source": [
    "df_presidents_top = presidents_df_clean.loc[\n",
    "    presidents_df_clean.president.isin(top_presidents_by_voters),\n",
    "    [\"president\", \"voters\"]\n",
    "].sort_values(by=\"voters\", ascending=False).drop_duplicates()\n",
    "\n",
    "\n",
    "plt.figure(figsize=(10, 6))\n",
    "bars = plt.bar(\n",
    "    df_presidents_top.president,\n",
    "    df_presidents_top.voters,\n",
    "    color=['skyblue', 'lightgreen', 'salmon']\n",
    ")\n",
    "\n",
    "\n",
    "\n",
    "plt.xlabel('Presidentes', fontweight='bold')\n",
    "plt.ylabel('Número de Votantes', fontweight='bold')\n",
    "plt.title('Top 3 Presidentes por Número de Votantes', fontsize=14, fontweight='bold')\n",
    "plt.grid(axis='y', alpha=0.3) \n",
    "plt.xticks(rotation=45)\n",
    "\n",
    "## Establecer formato de miles en el eje y\n",
    "plt.gca().yaxis.set_major_formatter(plt.FuncFormatter(lambda x, p: f'{x/1e3:.0f}K'))\n",
    "\n",
    "plt.tight_layout()\n",
    "plt.show()"
   ]
  },
  {
   "cell_type": "markdown",
   "id": "7d3423b8",
   "metadata": {},
   "source": [
    "### Histograms Charts"
   ]
  },
  {
   "cell_type": "code",
   "execution_count": null,
   "id": "34341654",
   "metadata": {},
   "outputs": [],
   "source": [
    "# Generate some sample data\n",
    "data = np.random.normal(170, 10, 1000) # 1000 values from a normal distribution\n",
    "\n",
    "# Create the histogram\n",
    "plt.hist(data, bins=30, edgecolor='black') # 'bins' controls the number of bins, 'edgecolor' adds outlines\n",
    "\n",
    "# Add labels and a title\n",
    "plt.xlabel('Value')\n",
    "plt.ylabel('Frequency')\n",
    "plt.title('Distribution of Data')\n",
    "\n",
    "# Display the plot\n",
    "plt.show()"
   ]
  },
  {
   "cell_type": "code",
   "execution_count": null,
   "id": "b397c335",
   "metadata": {},
   "outputs": [],
   "source": [
    "meses = [ 'Apr', 'May', 'Jun']\n",
    "\n",
    "plt.figure(figsize=(16, 12))\n",
    "\n",
    "for i, mes in enumerate(meses, 1):\n",
    "    plt.subplot(4, 3, i)\n",
    "    plt.hist(pune_df[mes], bins=15, alpha=0.7, color='skyblue', edgecolor='black')\n",
    "    plt.title(f'Histograma - {mes}')\n",
    "    plt.xlabel('Precipitación (mm)')\n",
    "    plt.ylabel('Frecuencia')\n",
    "    plt.grid(True, alpha=0.3)\n",
    "\n",
    "plt.suptitle('Distribución de Precipitación por Mes', fontsize=16, fontweight='bold')\n",
    "plt.tight_layout()\n",
    "plt.show()"
   ]
  },
  {
   "cell_type": "markdown",
   "id": "597066e0",
   "metadata": {},
   "source": [
    "### (EXTRA mas avanzado)"
   ]
  },
  {
   "cell_type": "code",
   "execution_count": null,
   "id": "eb662463",
   "metadata": {},
   "outputs": [],
   "source": [
    "from scipy.stats import gaussian_kde\n",
    "\n",
    "meses = ['Apr', 'May', 'Jun']\n",
    "\n",
    "plt.figure(figsize=(15, 5))\n",
    "\n",
    "for i, mes in enumerate(meses, 1):\n",
    "    plt.subplot(1, 3, i)\n",
    "    \n",
    "    datos = pune_df[mes].dropna()\n",
    "    \n",
    "    # Histograma con bins\n",
    "    n, bins, patches = plt.hist(datos, bins=15, alpha=0.5, color='lightblue', \n",
    "                               edgecolor='white', linewidth=1.5, density=True,\n",
    "                               label='Histograma')\n",
    "    \n",
    "    # KDE elegante\n",
    "    if len(datos) > 1:\n",
    "        kde = gaussian_kde(datos)\n",
    "        x_range = np.linspace(datos.min(), datos.max(), 300)\n",
    "        kde_line = kde(x_range)\n",
    "        plt.plot(x_range, kde_line, color='#2E86AB', linewidth=3, alpha=0.8,\n",
    "                label='Curva KDE')\n",
    "        plt.fill_between(x_range, kde_line, alpha=0.2, color='#2E86AB')\n",
    "    \n",
    "    plt.title(f'{mes}', fontsize=13, fontweight='bold')\n",
    "    plt.xlabel('Precipitación (mm)')\n",
    "    plt.ylabel('Densidad')\n",
    "    plt.legend()\n",
    "    \n",
    "    # Estilo limpio\n",
    "    plt.gca().spines['top'].set_visible(False)\n",
    "    plt.gca().spines['right'].set_visible(False)\n",
    "\n",
    "plt.suptitle('Distribución de Precipitación - Histograma y Densidad', \n",
    "             fontsize=15, fontweight='bold')\n",
    "plt.tight_layout()\n",
    "plt.show()"
   ]
  },
  {
   "cell_type": "markdown",
   "id": "1f9adbfe",
   "metadata": {},
   "source": [
    "#### (Extra Lollipop)"
   ]
  },
  {
   "cell_type": "code",
   "execution_count": null,
   "id": "a27fb768",
   "metadata": {},
   "outputs": [],
   "source": [
    "plt.figure(figsize=(10, 4))  # Reducir altura de la figura\n",
    "\n",
    "colors = ['skyblue', 'lightgreen', 'salmon']\n",
    "\n",
    "plt.hlines(y=range(len(df_presidents_top)), \n",
    "           xmin=0, \n",
    "           xmax=df_presidents_top.voters,\n",
    "           colors=colors,\n",
    "           alpha=0.4)\n",
    "\n",
    "plt.scatter(df_presidents_top.voters, \n",
    "            range(len(df_presidents_top)), \n",
    "            c=colors, \n",
    "            s=150, \n",
    "            linewidth=1\n",
    "            )\n",
    "\n",
    "plt.yticks(range(len(df_presidents_top)), df_presidents_top.president)\n",
    "plt.xlabel('Número de Votantes', fontweight='bold')\n",
    "plt.ylabel('Presidentes', fontweight='bold')\n",
    "plt.title('Top Presidentes por Número de Votantes', fontsize=14, fontweight='bold')\n",
    "plt.grid(axis='x', alpha=0.3)\n",
    "plt.gca().xaxis.set_major_formatter(plt.FuncFormatter(lambda x, p: f'{x/1e3:.0f}K'))\n",
    "\n",
    "plt.tight_layout()\n",
    "plt.show()"
   ]
  },
  {
   "cell_type": "markdown",
   "id": "63c2ea91",
   "metadata": {},
   "source": [
    "### PieCharts"
   ]
  },
  {
   "cell_type": "code",
   "execution_count": null,
   "id": "86c7b3dd",
   "metadata": {},
   "outputs": [],
   "source": [
    "sizes = [15, 30, 45, 10]\n",
    "labels = ['Category A', 'Category B', 'Category C', 'Category D']\n",
    "colors = ['gold', 'yellowgreen', 'lightcoral', 'lightskyblue']\n",
    "explode = (0, 0.1, 0, 0)  # Explode 'Category B'\n",
    "\n",
    "plt.pie(sizes, explode=explode, labels=labels, colors=colors,\n",
    "        autopct='%1.1f%%', shadow=True, startangle=90)\n",
    "\n",
    "plt.axis('equal')\n",
    "plt.title('Distribution of Categories')\n",
    "plt.show()"
   ]
  },
  {
   "cell_type": "code",
   "execution_count": null,
   "id": "c1945e59",
   "metadata": {},
   "outputs": [],
   "source": [
    "\n",
    "# Crear explode dinámicamente\n",
    "explode = [0.15 if i == 0 else 0 for i in range(len(df_presidents_top))]\n",
    "\n",
    "colors = [ 'skyblue', 'lightgreen', 'salmon']\n",
    "\n",
    "plt.pie(\n",
    "    df_presidents_top.voters,\n",
    "    labels=labels,\n",
    "    autopct=lambda p: f'{p:.1f}%',\n",
    "    colors=colors,\n",
    "    startangle=120,\n",
    "    explode=explode\n",
    ")\n",
    "\n",
    "plt.title('Top Presidentes por Número de Votantes', fontsize=14, fontweight='bold', pad=20)\n",
    "plt.tight_layout()\n",
    "plt.show()"
   ]
  },
  {
   "cell_type": "markdown",
   "id": "1b495e1c",
   "metadata": {},
   "source": [
    "### Grafico BoxPlots"
   ]
  },
  {
   "cell_type": "code",
   "execution_count": null,
   "id": "ebbf9917",
   "metadata": {},
   "outputs": [],
   "source": [
    "np.random.seed(42)"
   ]
  },
  {
   "cell_type": "code",
   "execution_count": null,
   "id": "ef49c626",
   "metadata": {},
   "outputs": [],
   "source": [
    "# Generate some sample data\n",
    "data = np.random.normal(loc=0, scale=1, size=100) # Single dataset\n",
    "data_multiple = [np.random.normal(loc=0, scale=1, size=100),\n",
    "                 np.random.normal(loc=2, scale=0.5, size=100),\n",
    "                 np.random.normal(loc=-1, scale=1.5, size=100)] # Multiple datasets\n",
    "\n",
    "\n",
    "df_single = pd.DataFrame({\n",
    "    'values': data\n",
    "})\n",
    "\n",
    "\n",
    "df_multiple = pd.DataFrame({\n",
    "    'Dataset_1': data_multiple[0],\n",
    "    'Dataset_2': data_multiple[1], \n",
    "    'Dataset_3': data_multiple[2]\n",
    "})\n",
    "\n",
    "# # Create a basic box plot for a single dataset\n",
    "# plt.figure(figsize=(6, 4))\n",
    "# plt.boxplot(data)\n",
    "# plt.title('Basic Box Plot')\n",
    "# plt.ylabel('Value')\n",
    "# plt.show()\n",
    "\n",
    "\n",
    "fig, (ax1, ax2) = plt.subplots(1, 2, figsize=(12, 5))\n",
    "\n",
    "# Basic box plot for single dataset\n",
    "ax1.boxplot(df_single.values)\n",
    "ax1.set_title('Basic Box Plot')\n",
    "ax1.set_ylabel('Value')\n",
    "\n",
    "# Box plot for multiple datasets\n",
    "ax2.boxplot(df_multiple.values)\n",
    "ax2.set_title('Box Plots for Multiple Datasets')\n",
    "ax2.set_xticks([1, 2, 3])\n",
    "ax2.set_xticklabels(['Dataset 1', 'Dataset 2', 'Dataset 3'])\n",
    "ax2.set_ylabel('Value')\n",
    "\n",
    "plt.tight_layout()\n",
    "plt.show()"
   ]
  },
  {
   "cell_type": "code",
   "execution_count": null,
   "id": "2fa16017",
   "metadata": {},
   "outputs": [],
   "source": [
    "meses = ['Apr', 'May', 'Dec']\n",
    "colores = ['skyblue', 'lightgreen', 'salmon']\n",
    "\n",
    "fig, (ax1, ax2) = plt.subplots(1, 2, figsize=(14, 6))\n",
    "\n",
    "# BOXPLOT HORIZONTAL\n",
    "box_plot = ax1.boxplot([pune_df[mes] for mes in meses], \n",
    "                       tick_labels=meses,\n",
    "                       patch_artist=True,\n",
    "                       vert=False)  # Horizontal\n",
    "\n",
    "for patch, color in zip(box_plot['boxes'], colores):\n",
    "    patch.set_facecolor(color)\n",
    "    patch.set_alpha(0.7)\n",
    "\n",
    "ax1.set_title('Boxplot Horizontal', fontsize=14, fontweight='bold')\n",
    "ax1.set_xlabel('Precipitación (mm)')\n",
    "ax1.set_ylabel('Meses')\n",
    "ax1.grid(True, alpha=0.3)\n",
    "\n",
    "# VIOLIN PLOT HORIZONTAL\n",
    "violin_parts = ax2.violinplot([pune_df[mes] for mes in meses],\n",
    "                             vert=False,  # Horizontal\n",
    "                             showmeans=True,\n",
    "                             showmedians=True)\n",
    "\n",
    "for i, (pc, color) in enumerate(zip(violin_parts['bodies'], colores)):\n",
    "    pc.set_facecolor(color)\n",
    "    pc.set_alpha(0.7)\n",
    "    pc.set_edgecolor('black')\n",
    "\n",
    "# Configurar etiquetas del violin plot\n",
    "ax2.set_yticks([1, 2, 3])\n",
    "ax2.set_yticklabels(meses)\n",
    "ax2.set_title('Violin Plot Horizontal', fontsize=14, fontweight='bold')\n",
    "ax2.set_xlabel('Precipitación (mm)')\n",
    "ax2.set_ylabel('Meses')\n",
    "ax2.grid(True, alpha=0.3)\n",
    "\n",
    "plt.suptitle('Comparación de Distribuciones: Boxplot vs Violin Plot', \n",
    "             fontsize=16, fontweight='bold', y=0.95)\n",
    "plt.tight_layout()\n",
    "plt.show()"
   ]
  },
  {
   "cell_type": "markdown",
   "id": "8598090b",
   "metadata": {},
   "source": [
    "### HeatMaps"
   ]
  },
  {
   "cell_type": "code",
   "execution_count": null,
   "id": "bd1abe4f",
   "metadata": {},
   "outputs": [],
   "source": [
    "# Create some sample 2D data\n",
    "data = np.random.rand(10, 12) * 100\n",
    "\n",
    "# Create the heatmap\n",
    "plt.imshow(data, cmap='viridis', aspect='auto') # 'viridis' is a common colormap, 'aspect' controls the aspect ratio\n",
    "\n",
    "# Add a colorbar to interpret the colors\n",
    "plt.colorbar(label='Value')\n",
    "\n",
    "# Add labels and title for clarity\n",
    "plt.xlabel('X-axis')\n",
    "plt.ylabel('Y-axis')\n",
    "plt.title('Basic Heatmap Example')\n",
    "\n",
    "# Display the plot\n",
    "plt.show()"
   ]
  },
  {
   "cell_type": "code",
   "execution_count": null,
   "id": "c3794049",
   "metadata": {},
   "outputs": [],
   "source": [
    "# Preparar datos para heatmap\n",
    "heatmap_data = df_presidents_top[['president', 'voters']].copy()\n",
    "heatmap_data['voters_millions'] = heatmap_data['voters'] / 1e6\n",
    "heatmap_data = heatmap_data.set_index('president')\n",
    "\n",
    "plt.figure(figsize=(10, 6))\n",
    "\n",
    "# Crear heatmap con imshow\n",
    "im = plt.imshow(heatmap_data[['voters_millions']], cmap='Blues', aspect='auto')\n",
    "\n",
    "# Añadir barra de color\n",
    "cbar = plt.colorbar(im)\n",
    "cbar.set_label('Millones de Votantes', fontweight='bold')\n",
    "\n",
    "# Añadir anotaciones con los valores\n",
    "for i in range(len(heatmap_data)):\n",
    "    value = heatmap_data.iloc[i, 1]  # voters_millions\n",
    "    plt.text(0, i, f'{value:.2f}', \n",
    "             ha='center', va='center', \n",
    "             fontweight='bold', fontsize=12,\n",
    "             color='white' if value > heatmap_data['voters_millions'].mean() else 'black')\n",
    "\n",
    "# Configurar ejes\n",
    "plt.yticks(range(len(heatmap_data)), heatmap_data.index)\n",
    "plt.xticks([0], ['Votantes (Millones)'])\n",
    "plt.title('Top Presidentes por Número de Votantes', fontsize=14, fontweight='bold')\n",
    "plt.tight_layout()\n",
    "plt.show()"
   ]
  },
  {
   "cell_type": "code",
   "execution_count": null,
   "id": "ace9d2f7",
   "metadata": {},
   "outputs": [],
   "source": [
    "import seaborn as sns"
   ]
  },
  {
   "cell_type": "code",
   "execution_count": null,
   "id": "0d724b1c",
   "metadata": {},
   "outputs": [],
   "source": [
    "# Preparar datos para heatmap\n",
    "heatmap_data = df_presidents_top[['president', 'voters']].copy()\n",
    "heatmap_data['voters_millions'] = heatmap_data['voters'] / 1e6\n",
    "heatmap_data = heatmap_data.set_index('president')\n",
    "\n",
    "plt.figure(figsize=(10, 6))\n",
    "sns.heatmap(heatmap_data[['voters_millions']], \n",
    "            annot=True, \n",
    "            fmt='.2f', \n",
    "            cmap='Blues',\n",
    "            cbar_kws={'label': 'Millones de Votantes'})\n",
    "\n",
    "plt.title('Top Presidentes por Número de Votantes', fontsize=14, fontweight='bold')\n",
    "plt.xlabel('')\n",
    "plt.ylabel('Presidentes')\n",
    "plt.tight_layout()\n",
    "plt.show()"
   ]
  }
 ],
 "metadata": {
  "kernelspec": {
   "display_name": "86400_data_science_i_diplomatura",
   "language": "python",
   "name": "python3"
  },
  "language_info": {
   "codemirror_mode": {
    "name": "ipython",
    "version": 3
   },
   "file_extension": ".py",
   "mimetype": "text/x-python",
   "name": "python",
   "nbconvert_exporter": "python",
   "pygments_lexer": "ipython3",
   "version": "3.11.13"
  }
 },
 "nbformat": 4,
 "nbformat_minor": 5
}
