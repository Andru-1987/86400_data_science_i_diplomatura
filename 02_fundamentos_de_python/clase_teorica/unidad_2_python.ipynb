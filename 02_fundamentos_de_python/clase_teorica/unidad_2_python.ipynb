{
  "nbformat": 4,
  "nbformat_minor": 0,
  "metadata": {
    "colab": {
      "provenance": [],
      "authorship_tag": "ABX9TyPSDNWP4rWk/m+3MIbAO+zo",
      "include_colab_link": true
    },
    "kernelspec": {
      "name": "python3",
      "display_name": "Python 3"
    },
    "language_info": {
      "name": "python"
    }
  },
  "cells": [
    {
      "cell_type": "markdown",
      "metadata": {
        "id": "view-in-github",
        "colab_type": "text"
      },
      "source": [
        "<a href=\"https://colab.research.google.com/github/Andru-1987/86400_data_science_i_diplomatura/blob/main/02_fundamentos_de_python/clase_teorica/unidad_2_python.ipynb\" target=\"_parent\"><img src=\"https://colab.research.google.com/assets/colab-badge.svg\" alt=\"Open In Colab\"/></a>"
      ]
    },
    {
      "cell_type": "markdown",
      "source": [
        "# **Inicios de Python**\n",
        "---"
      ],
      "metadata": {
        "id": "ZncN4MU2XoKl"
      }
    },
    {
      "cell_type": "code",
      "source": [
        "mi_primer_variable = \"Hello world!\"  # declarando y asignando mi primer variable\n",
        "\n",
        "print(mi_primer_variable)\n",
        "print(type(mi_primer_variable))"
      ],
      "metadata": {
        "id": "UlsghQgyX5Ys"
      },
      "execution_count": null,
      "outputs": []
    },
    {
      "cell_type": "code",
      "source": [
        "mi_primer_variable =  28  # esta variable le estoy re asigando su valor por uno del tipo numerico\n",
        "\n",
        "print(mi_primer_variable)\n",
        "print(type(mi_primer_variable))"
      ],
      "metadata": {
        "id": "XVAL-uePY1N9"
      },
      "execution_count": null,
      "outputs": []
    },
    {
      "cell_type": "code",
      "source": [
        "mi_primer_variable = True\n",
        "\n",
        "print(mi_primer_variable)\n",
        "print(type(mi_primer_variable))"
      ],
      "metadata": {
        "id": "XcvH-HoWZdWg"
      },
      "execution_count": null,
      "outputs": []
    },
    {
      "cell_type": "code",
      "source": [
        "mi_primer_variable = [ \"Maria\",\"Nancy\",\"Lucho\"]\n",
        "\n",
        "print(mi_primer_variable)\n",
        "print(type(mi_primer_variable))\n"
      ],
      "metadata": {
        "id": "FOuzej-qZt0R"
      },
      "execution_count": null,
      "outputs": []
    },
    {
      "cell_type": "code",
      "source": [
        "segunda_variabe = list(range(1,20,2))\n",
        "\n",
        "mi_primer_variable = {\n",
        "    \"key_uno\": segunda_variabe,\n",
        "    \"key_dos\": (True or False)\n",
        "}\n",
        "\n",
        "\n",
        "print(mi_primer_variable)\n",
        "print(type(mi_primer_variable))"
      ],
      "metadata": {
        "id": "DUwqinT-aEjF"
      },
      "execution_count": null,
      "outputs": []
    },
    {
      "cell_type": "markdown",
      "source": [
        "# Operaciones aritmeticos & Operaciones de comparacion\n",
        "---"
      ],
      "metadata": {
        "id": "r6gZF-tKbK-I"
      }
    },
    {
      "cell_type": "code",
      "source": [
        "import  random"
      ],
      "metadata": {
        "id": "OB3QWNvjcASN"
      },
      "execution_count": null,
      "outputs": []
    },
    {
      "cell_type": "code",
      "source": [
        "variable_uno = 20\n",
        "variable_dos = random.choice(segunda_variabe)\n",
        "\n",
        "print(variable_uno)\n",
        "print(variable_dos)\n"
      ],
      "metadata": {
        "colab": {
          "base_uri": "https://localhost:8080/"
        },
        "id": "giY_WwYMbQ4i",
        "outputId": "a2e3a7a8-42d2-4899-eb57-f46df0ba082f"
      },
      "execution_count": null,
      "outputs": [
        {
          "output_type": "stream",
          "name": "stdout",
          "text": [
            "20\n",
            "7\n"
          ]
        }
      ]
    },
    {
      "cell_type": "code",
      "source": [
        "print(\"# Suma: \\t\", variable_uno +  variable_dos)    # Suma\n",
        "print(\"# Resta  : \\t\", variable_uno -  variable_dos)    # Resta\n",
        "print(\"# Multiplicación: \\t\", variable_uno *  variable_dos)    # Multiplicación\n",
        "print(\"# División: \\t\", variable_uno /  variable_dos)    # División\n",
        "print(\"# División entera: \\t\", variable_uno // variable_dos)    # División entera\n",
        "print(\"# Módulo (resto): \\t\", variable_uno %  variable_dos)    # Módulo (resto)\n",
        "print(\"# Exponenciación: \\t\", variable_uno ** variable_dos)    # Exponenciación"
      ],
      "metadata": {
        "colab": {
          "base_uri": "https://localhost:8080/"
        },
        "id": "oNfI3NEHcUuI",
        "outputId": "6c62d6c4-c3df-4578-df63-ef6a534d8d56"
      },
      "execution_count": null,
      "outputs": [
        {
          "output_type": "stream",
          "name": "stdout",
          "text": [
            "# Suma: \t 27\n",
            "# Resta  : \t 13\n",
            "# Multiplicación: \t 140\n",
            "# División: \t 2.857142857142857\n",
            "# División entera: \t 2\n",
            "# Módulo (resto): \t 6\n",
            "# Exponenciación: \t 1280000000\n"
          ]
        }
      ]
    },
    {
      "cell_type": "code",
      "source": [
        "print(f\"#  {variable_uno} == {variable_dos} Igual a: ->>>       \\t\",            variable_uno == variable_dos, \"\\n\")\n",
        "print(f\"#  {variable_uno} != {variable_dos} Distinto de: ->>>   \\t\",        variable_uno != variable_dos,\"\\n\"),\n",
        "print(f\"#  {variable_uno} <  {variable_dos} Menor que: ->>>     \\t\",          variable_uno < variable_dos, \"\\n\")\n",
        "print(f\"#  {variable_uno} >  {variable_dos} Mayor que: ->>>     \\t\",          variable_uno > variable_dos, \"\\n\")\n",
        "print(f\"#  {variable_uno} <= {variable_dos} Menor o igual que: ->>> \\t\",  variable_uno <= variable_dos, \"\\n\")\n",
        "print(f\"#  {variable_uno} >= {variable_dos} Mayor o igual que: ->>> \\t\",  variable_uno >= variable_dos, \"\\n\")"
      ],
      "metadata": {
        "colab": {
          "base_uri": "https://localhost:8080/"
        },
        "id": "dtEL3TpgdTLR",
        "outputId": "14b6a9fb-29d5-437a-e6e0-417857aeeb24"
      },
      "execution_count": null,
      "outputs": [
        {
          "output_type": "stream",
          "name": "stdout",
          "text": [
            "#  20 == 7 Igual a: ->>>       \t False \n",
            "\n",
            "#  20 != 7 Distinto de: ->>>   \t True \n",
            "\n",
            "#  20 <  7 Menor que: ->>>     \t False \n",
            "\n",
            "#  20 >  7 Mayor que: ->>>     \t True \n",
            "\n",
            "#  20 <= 7 Menor o igual que: ->>> \t False \n",
            "\n",
            "#  20 >= 7 Mayor o igual que: ->>> \t True \n",
            "\n"
          ]
        }
      ]
    },
    {
      "cell_type": "markdown",
      "source": [
        "## Estructuras de control IF - ELSE - ELSE IF"
      ],
      "metadata": {
        "id": "7ss2FlJnexMc"
      }
    },
    {
      "cell_type": "code",
      "source": [
        "EDAD_LIMITE = 18"
      ],
      "metadata": {
        "id": "An0w7wcifBgT"
      },
      "execution_count": null,
      "outputs": []
    },
    {
      "cell_type": "code",
      "source": [
        "edad_entrante = input(\"Ingrese su edad: \\n\")"
      ],
      "metadata": {
        "colab": {
          "base_uri": "https://localhost:8080/"
        },
        "id": "Cj9GYOmvfmjQ",
        "outputId": "f5b067e0-8bc4-434c-fc9a-3e7cff8e9a44"
      },
      "execution_count": null,
      "outputs": [
        {
          "name": "stdout",
          "output_type": "stream",
          "text": [
            "Ingrese su edad: \n",
            "18\n"
          ]
        }
      ]
    },
    {
      "cell_type": "code",
      "source": [
        "edad_entrante = float(edad_entrante)\n",
        "\n",
        "if edad_entrante >= 200:\n",
        "    print(\"Chamigo --> me parece que me estas cachando 🤣\")\n",
        "elif edad_entrante >= EDAD_LIMITE:\n",
        "    print(\"Soy mayor de edad, tengo:\" + str(edad_entrante))\n",
        "else:\n",
        "    print(f\"Tenes una edad menor a {EDAD_LIMITE}\")\n"
      ],
      "metadata": {
        "colab": {
          "base_uri": "https://localhost:8080/"
        },
        "id": "LWKlR0bdfL3u",
        "outputId": "a0468b14-6441-426d-a445-3460c23e3253"
      },
      "execution_count": null,
      "outputs": [
        {
          "output_type": "stream",
          "name": "stdout",
          "text": [
            "Soy mayor de edad, tengo:18.0\n"
          ]
        }
      ]
    },
    {
      "cell_type": "markdown",
      "source": [
        "## Iteraciones con FOR - WHILE"
      ],
      "metadata": {
        "id": "m36Uj65-ljTp"
      }
    },
    {
      "cell_type": "code",
      "source": [
        "edades = list(range(1,75, 3))\n",
        "print(edades)"
      ],
      "metadata": {
        "colab": {
          "base_uri": "https://localhost:8080/"
        },
        "id": "oQEKvSRylmi7",
        "outputId": "ca2e8551-3f59-426c-f78a-4be55f730189"
      },
      "execution_count": null,
      "outputs": [
        {
          "output_type": "stream",
          "name": "stdout",
          "text": [
            "[1, 4, 7, 10, 13, 16, 19, 22, 25, 28, 31, 34, 37, 40, 43, 46, 49, 52, 55, 58, 61, 64, 67, 70, 73]\n"
          ]
        }
      ]
    },
    {
      "cell_type": "code",
      "source": [
        "# contador = 1\n",
        "\n",
        "for contador , edad in enumerate(edades, start=1):\n",
        "    if (edad % 2 == 0) :\n",
        "        print(\"Esta edad es un numero par\")\n",
        "        print(f\"Esta es la edad que parece en # {contador}: {edad} \")\n",
        "        contador =  contador + 1"
      ],
      "metadata": {
        "colab": {
          "base_uri": "https://localhost:8080/"
        },
        "id": "dIcVfH4Al1sD",
        "outputId": "e4cb4829-2f8d-4878-c49c-1af9abcb3c30"
      },
      "execution_count": null,
      "outputs": [
        {
          "output_type": "stream",
          "name": "stdout",
          "text": [
            "Esta edad es un numero par\n",
            "Esta es la edad que parece en # 2: 4 \n",
            "Esta edad es un numero par\n",
            "Esta es la edad que parece en # 4: 10 \n",
            "Esta edad es un numero par\n",
            "Esta es la edad que parece en # 6: 16 \n",
            "Esta edad es un numero par\n",
            "Esta es la edad que parece en # 8: 22 \n",
            "Esta edad es un numero par\n",
            "Esta es la edad que parece en # 10: 28 \n",
            "Esta edad es un numero par\n",
            "Esta es la edad que parece en # 12: 34 \n",
            "Esta edad es un numero par\n",
            "Esta es la edad que parece en # 14: 40 \n",
            "Esta edad es un numero par\n",
            "Esta es la edad que parece en # 16: 46 \n",
            "Esta edad es un numero par\n",
            "Esta es la edad que parece en # 18: 52 \n",
            "Esta edad es un numero par\n",
            "Esta es la edad que parece en # 20: 58 \n",
            "Esta edad es un numero par\n",
            "Esta es la edad que parece en # 22: 64 \n",
            "Esta edad es un numero par\n",
            "Esta es la edad que parece en # 24: 70 \n"
          ]
        }
      ]
    },
    {
      "cell_type": "code",
      "source": [
        "# Ciclo While --> Parecido, pero no igual --> ? ...funciona bajo bajo una condicion cierta.\n",
        "# edad = edades[0]\n",
        "\n",
        "# condicion:bool = edad % 2 == 0  # tipo de dato --> Boolean\n",
        "\n",
        "# while condicion:\n",
        "#     print(f\"La edad es: {edad} y es par\")\n",
        "\n",
        "flag:bool = True\n",
        "index:int = 0\n",
        "\n",
        "while flag:\n",
        "\n",
        "    edad = edades[index]\n",
        "\n",
        "    if edad > 60:\n",
        "        flag = False\n",
        "        print(\"Por aca la edad es mayor\")\n",
        "\n",
        "    if (edad % 2 != 0 ):\n",
        "        print(f\"La edad no es par y es: {edad}\")\n",
        "\n",
        "    else:\n",
        "        print(\"La edad es par\")\n",
        "\n",
        "    index = index + 1\n",
        "\n",
        "    print(\"Seguimos al siguiente valor\")\n",
        "\n",
        "\n",
        "\n"
      ],
      "metadata": {
        "colab": {
          "base_uri": "https://localhost:8080/"
        },
        "id": "7Fu0W8KmnxSb",
        "outputId": "259ca0c7-d695-4267-93c6-29b8d659ccd5"
      },
      "execution_count": null,
      "outputs": [
        {
          "output_type": "stream",
          "name": "stdout",
          "text": [
            "La edad no es par y es: 1\n",
            "Seguimos al siguiente valor\n",
            "La edad es par\n",
            "Seguimos al siguiente valor\n",
            "La edad no es par y es: 7\n",
            "Seguimos al siguiente valor\n",
            "La edad es par\n",
            "Seguimos al siguiente valor\n",
            "La edad no es par y es: 13\n",
            "Seguimos al siguiente valor\n",
            "La edad es par\n",
            "Seguimos al siguiente valor\n",
            "La edad no es par y es: 19\n",
            "Seguimos al siguiente valor\n",
            "La edad es par\n",
            "Seguimos al siguiente valor\n",
            "La edad no es par y es: 25\n",
            "Seguimos al siguiente valor\n",
            "La edad es par\n",
            "Seguimos al siguiente valor\n",
            "La edad no es par y es: 31\n",
            "Seguimos al siguiente valor\n",
            "La edad es par\n",
            "Seguimos al siguiente valor\n",
            "La edad no es par y es: 37\n",
            "Seguimos al siguiente valor\n",
            "La edad es par\n",
            "Seguimos al siguiente valor\n",
            "La edad no es par y es: 43\n",
            "Seguimos al siguiente valor\n",
            "La edad es par\n",
            "Seguimos al siguiente valor\n",
            "La edad no es par y es: 49\n",
            "Seguimos al siguiente valor\n",
            "La edad es par\n",
            "Seguimos al siguiente valor\n",
            "La edad no es par y es: 55\n",
            "Seguimos al siguiente valor\n",
            "La edad es par\n",
            "Seguimos al siguiente valor\n",
            "Por aca la edad es mayor\n",
            "La edad no es par y es: 61\n",
            "Seguimos al siguiente valor\n"
          ]
        }
      ]
    },
    {
      "cell_type": "markdown",
      "source": [
        "# Funciones"
      ],
      "metadata": {
        "id": "Nn55FL3brJpP"
      }
    },
    {
      "cell_type": "markdown",
      "source": [
        "![image.png](data:image/png;base64,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)"
      ],
      "metadata": {
        "id": "-bvMLgUhsEKl"
      }
    },
    {
      "cell_type": "code",
      "source": [
        "# Quiero de una lista de years -- desde el 1980 hasta la fecha actual --> quiero saber cuales son los bisiestos\n",
        "\n",
        "years = list(range(1980, 2025))\n",
        "print(years)"
      ],
      "metadata": {
        "colab": {
          "base_uri": "https://localhost:8080/"
        },
        "id": "kbaSpPIKrJMz",
        "outputId": "e9d16ffd-91a2-43ca-c5e3-d741945239aa"
      },
      "execution_count": null,
      "outputs": [
        {
          "output_type": "stream",
          "name": "stdout",
          "text": [
            "[1980, 1981, 1982, 1983, 1984, 1985, 1986, 1987, 1988, 1989, 1990, 1991, 1992, 1993, 1994, 1995, 1996, 1997, 1998, 1999, 2000, 2001, 2002, 2003, 2004, 2005, 2006, 2007, 2008, 2009, 2010, 2011, 2012, 2013, 2014, 2015, 2016, 2017, 2018, 2019, 2020, 2021, 2022, 2023, 2024]\n"
          ]
        }
      ]
    },
    {
      "cell_type": "code",
      "source": [
        "for year in years:\n",
        "    condicion:bool = ((year % 4 == 0) and (year % 100 != 0))  or (year % 400 == 0)\n",
        "    if condicion:\n",
        "        print(f\" >>> {year} es bisiesto\")\n"
      ],
      "metadata": {
        "colab": {
          "base_uri": "https://localhost:8080/"
        },
        "id": "rjgGJV6DsMSZ",
        "outputId": "1af74bb6-d456-4299-abe7-5df655c486c0"
      },
      "execution_count": null,
      "outputs": [
        {
          "output_type": "stream",
          "name": "stdout",
          "text": [
            " >>> 1980 es bisiesto\n",
            " >>> 1984 es bisiesto\n",
            " >>> 1988 es bisiesto\n",
            " >>> 1992 es bisiesto\n",
            " >>> 1996 es bisiesto\n",
            " >>> 2000 es bisiesto\n",
            " >>> 2004 es bisiesto\n",
            " >>> 2008 es bisiesto\n",
            " >>> 2012 es bisiesto\n",
            " >>> 2016 es bisiesto\n",
            " >>> 2020 es bisiesto\n",
            " >>> 2024 es bisiesto\n"
          ]
        }
      ]
    },
    {
      "cell_type": "code",
      "source": [
        "def is_leap_year(year:int) -> bool:\n",
        "    return  ((year % 4 == 0) and (year % 100 != 0))  or (year % 400 == 0)\n"
      ],
      "metadata": {
        "id": "sgykBeSSteVs"
      },
      "execution_count": null,
      "outputs": []
    },
    {
      "cell_type": "code",
      "source": [
        "for year in years:\n",
        "    if is_leap_year(year):\n",
        "        print(f\">>> {year} es bisiesto\")\n"
      ],
      "metadata": {
        "colab": {
          "base_uri": "https://localhost:8080/"
        },
        "id": "ywNuNAqBt3h3",
        "outputId": "7c4199e7-d399-4463-ddef-2167a610557a"
      },
      "execution_count": null,
      "outputs": [
        {
          "output_type": "stream",
          "name": "stdout",
          "text": [
            ">>> 1980 es bisiesto\n",
            ">>> 1984 es bisiesto\n",
            ">>> 1988 es bisiesto\n",
            ">>> 1992 es bisiesto\n",
            ">>> 1996 es bisiesto\n",
            ">>> 2000 es bisiesto\n",
            ">>> 2004 es bisiesto\n",
            ">>> 2008 es bisiesto\n",
            ">>> 2012 es bisiesto\n",
            ">>> 2016 es bisiesto\n",
            ">>> 2020 es bisiesto\n",
            ">>> 2024 es bisiesto\n"
          ]
        }
      ]
    },
    {
      "cell_type": "markdown",
      "source": [
        "### Mini Challenge ->\n",
        "Hacer una funcion que permita procesar este texto y generarme una lista con los nombres unicamente:"
      ],
      "metadata": {
        "id": "QB8EmXYPur1r"
      }
    },
    {
      "cell_type": "code",
      "source": [
        "texto_raw = '''<ol start=\"6\">\n",
        "<li><strong>Ana<br></strong>Este nombre de origen hebreo y procedente de la tradición bíblica es otro de esos nombres tradicionales, con energía y carácter, que nunca pasan de moda. El <a href=\"https://www.guiainfantil.com/articulos/nombres/cristianos-santos/dia-de-la-santa-ana-7-de-junio-nombres-para-ninas/\" title=\"origen y significado del nombre Ana\">nombre Ana</a> viene de la palabra hebrea 'hannah', que significa 'misericordiosa', 'bendecida por Dios'. Ana era la madre de la virgen María.</li>\n",
        "<li><strong>Enzo<br></strong>Este nombre tiene un curioso origen. El <a href=\"https://www.guiainfantil.com/nombres/nombres-para-ninos/significado-del-nombre-enzo/\" title=\"qué significa y de donde viene el nombre Enzo\">nombre Enzo</a> es la versión italiana del nombre alemán Heinz que a su vez es el diminutivo de Heinrich. Se trata, por tanto, de un nombre con historia que aportará una gran personalidad a vuestro niño.</li>\n",
        "<li><strong>Eric<br></strong>Este nombre es de origen escandinavo y tiene un significado que habla de poder eterno. El <a href=\"https://www.guiainfantil.com/nombres/nombres-para-ninos/significado-del-nombre-eric/\" title=\"significado y procedencia del nombre Eric\">nombre Eric</a> es corto, sencillo y muy sofisticado que está ganando popularidad hasta convertirse en un nombre frecuente. A pesar de tener una larga tradición, Eric sigue considerado como un nombre moderno.</li>\n",
        "<li><strong>Eva<br></strong>Este nombre de origen hebreo se nos ha trasmitido a través de los relatos bíblicos en la imagen de la primera mujer. Su popularidad se mantiene invariable y ajena a modas y tendencias, probablemente por la energía que transmite. El <a href=\"https://www.guiainfantil.com/articulos/nombres/cristianos-santos/dia-de-santa-eva-19-de-diciembre-nombres-para-bebes-de-nina/\" title=\"significado del nombre Eva\">nombre Eva </a>tiene un bonito significado: 'la que da vida' o 'fuente de vida'.</li>\n",
        "<li><strong>Hugo<br></strong>Es uno de los nombres cortos para niño más atractivos por su simplicidad y sonoridad. Su origen germánico habla de inteligencia y de resplandor, y su sencillez no hace sino aumentar la personalidad de este nombre que está de plena actualidad. El <a href=\"https://www.guiainfantil.com/articulos/nombres/cristianos-santos/dia-del-santo-hugo-1-de-abril-nombres-para-ninos/\" title=\"significado del nombre Hugo\">nombre Hugo</a> celebra su santo el día 1 de Abril.</li>\n",
        "<li><strong>Iván<br></strong>Se trata de un nombre tradicional, aunque moderno. Es un nombre de origen ruso y una variante del nombre Juan. El <a href=\"https://www.guiainfantil.com/articulos/nombres/cristianos-santos/dia-del-santo-ivan-24-de-junio-nombres-para-ninos/\" title=\"origen y significado del nombre Iván\">nombre Iván </a>aporta distinción y elegancia, y un toque muy personal, perfecto para vuestro bebé.</li>\n",
        "<li><strong>Juan<br></strong>Este es uno de los nombres más populares, tradicionales, familiares, y que nunca pasa de moda. Además, admite muchas combinaciones como Juan Carlos, Juan Jose, entre otras. El <a href=\"https://www.guiainfantil.com/articulos/nombres/cristianos-santos/dia-del-santo-juan-24-de-junio-nombres-para-ninos/\" title=\"el nombre Juan significa\">nombre Juan</a> es de origen hebreo y significa '<a href=\"https://www.guiainfantil.com/nombres/cristianos-santos/8-de-marzo-dia-de-santo-juan-de-dios-guia-de-nombres-para-ninos/\" title=\"El día de San Juan de Dios\">el fiel a Dios</a>'.</li>\n",
        "<li><strong>Lara<br></strong>Es un nombre corto y delicado para una niña, que inspira paz y sosiego. El nombre Lara es de origen latino y proviene de la mitología romana donde los dioses Lares eran los protectores del hogar. Lara es un nombre con un sonido agradable y uno de los más bonitos para las niñas.</li>\n",
        "<li><strong>Leo<br></strong>Al principio este <a href=\"https://www.guiainfantil.com/articulos/nombres/nombres-para-ninos/10-nombres-africanos-para-ninos/\" title=\"106 nombres africanos para niños con mucha tradición\">nombre</a> era un diminutivo, pero con el tiempo se ha convertido en un nombre con entidad propia. Es de origen latino y aunque su popularidad es creciente se debe a que es el nombre que Penélope Cruz eligió para su niño. También porque uno de los mejores jugadores de fútbol de los últimos años también lleve este nombre corto: Leo Messi.</li>\n",
        "<li><strong>Luz<br></strong>Se trata de un nombre de origen latino, tan luminoso y radiante como el propio. <a href=\"https://www.guiainfantil.com/articulos/nombres/cristianos-santos/dia-de-nuestra-senora-de-la-luz-1-de-julio-nombres-para-ninas/\" title=\"el nombre Luz para niñas\">Luz es un nombre</a> sencillo que aporta un toque delicado y elegante, tan personal que se mantiene ajeno a las tendencias.</li>\n",
        "<li><strong>Mar<br></strong>Se trata de un nombre femenino de origen italiano que significa 'la señora del mar'. Este nombre que ya es muy popular en España, solía venir acompañado del nombre María, pero ya se usa solo.</li>\n",
        "<li><strong>Nora<br></strong>Se sabe que este nombre tiene origen griego y que proviene de nombres como el de Honoria y Eleonora. El resultado es un nombre corto para niña, sofisticado, original y elegante.</li>\n",
        "<li><strong>Raúl<br></strong>De origen germánico, el <a href=\"https://www.guiainfantil.com/articulos/nombres/alemanes/dia-del-santo-raul-30-de-diciembre-nombres-para-ninos/\" title=\"significado del nombre Raúl\">nombre Raúl </a>llega cargado de gran personalidad y fuerza. Eso debido a que significa 'el consejero valiente' o 'el lobo consejero'. Personajes famosos que tienen este nombre: el jugador de fútbol Raúl Gonzalez, el actor Raúl Julia, o el jugador de baloncesto Raúl López.</li>\n",
        "<li><strong>Sara<br></strong>Nombre de origen hebreo que significa 'princesa'. Pertenece a ese grupo de nombres de personajes bíblicos que siempre están de moda y que no pierden frescura con el paso del tiempo.</li>\n",
        "</ol>'''\n"
      ],
      "metadata": {
        "id": "vO0qX9mDvZOT"
      },
      "execution_count": 2,
      "outputs": []
    },
    {
      "cell_type": "markdown",
      "source": [
        "## Respuesta de diego:"
      ],
      "metadata": {
        "id": "IjHqCHKAFHri"
      }
    },
    {
      "cell_type": "code",
      "source": [
        "nombres = []  # Declaro una lista vacía donde voy a ir guardando los nombres encontrados\n",
        "\n",
        "for palabra in texto_raw.split():  # Recorro cada palabra del texto separandola con .split() por espacios en blanco como separadores\n",
        "    mayusculas = [letra for letra in palabra if letra.isupper()] # Creo una lista con los caracteres en mayúscula de la palabra actual.\n",
        "\n",
        "    if len(mayusculas) == 2: # Si la palabra tiene al menos 2  mayúsculas es \"CamelCase\" y contiene el nombre.\n",
        "        for i, letra in enumerate(palabra[1:], start=1): # Recorro la palabra desde el segundo carácter\n",
        "            (palabra[1:])\n",
        "            if letra.isupper(): # Si encuentro una mayúscula interna en la palabra\n",
        "                nombres.append(palabra[0:i]) # Corto la palabra desde el inicio hasta justo antes de esa mayúscula y lo agrego a la lista de nombres.\n",
        "                break # Salgo del bucle interno, porque ya encontré dónde cortar la palabra.\n",
        "print(nombres)"
      ],
      "metadata": {
        "id": "KQRl6c3UFO7Z",
        "outputId": "2b8180dc-404a-4729-b2b1-f8f772661d01",
        "colab": {
          "base_uri": "https://localhost:8080/"
        }
      },
      "execution_count": 3,
      "outputs": [
        {
          "output_type": "stream",
          "name": "stdout",
          "text": [
            "['<li><strong>', '<li><strong>', '<li><strong>', '<li><strong>', '<li><strong>', '<li><strong>', '<li><strong>', '<li><strong>', '<li><strong>', '<li><strong>', '<li><strong>', '<li><strong>', '<li><strong>', '<li><strong>']\n"
          ]
        }
      ]
    },
    {
      "cell_type": "markdown",
      "source": [
        "### Resolucion #1"
      ],
      "metadata": {
        "id": "FgzeXzYoF3W9"
      }
    },
    {
      "cell_type": "code",
      "source": [
        "texto_splitted = texto_raw.split(sep=\"\\n\")\n",
        "print(texto_splitted)"
      ],
      "metadata": {
        "id": "TzTwb9-3GXGd",
        "outputId": "92e99abe-8bc2-441d-9f70-fdcf56469550",
        "colab": {
          "base_uri": "https://localhost:8080/"
        }
      },
      "execution_count": 6,
      "outputs": [
        {
          "output_type": "stream",
          "name": "stdout",
          "text": [
            "['<ol start=\"6\">', '<li><strong>Ana<br></strong>Este nombre de origen hebreo y procedente de la tradición bíblica es otro de esos nombres tradicionales, con energía y carácter, que nunca pasan de moda. El <a href=\"https://www.guiainfantil.com/articulos/nombres/cristianos-santos/dia-de-la-santa-ana-7-de-junio-nombres-para-ninas/\" title=\"origen y significado del nombre Ana\">nombre Ana</a> viene de la palabra hebrea \\'hannah\\', que significa \\'misericordiosa\\', \\'bendecida por Dios\\'. Ana era la madre de la virgen María.</li>', '<li><strong>Enzo<br></strong>Este nombre tiene un curioso origen. El <a href=\"https://www.guiainfantil.com/nombres/nombres-para-ninos/significado-del-nombre-enzo/\" title=\"qué significa y de donde viene el nombre Enzo\">nombre Enzo</a> es la versión italiana del nombre alemán Heinz que a su vez es el diminutivo de Heinrich. Se trata, por tanto, de un nombre con historia que aportará una gran personalidad a vuestro niño.</li>', '<li><strong>Eric<br></strong>Este nombre es de origen escandinavo y tiene un significado que habla de poder eterno. El <a href=\"https://www.guiainfantil.com/nombres/nombres-para-ninos/significado-del-nombre-eric/\" title=\"significado y procedencia del nombre Eric\">nombre Eric</a> es corto, sencillo y muy sofisticado que está ganando popularidad hasta convertirse en un nombre frecuente. A pesar de tener una larga tradición, Eric sigue considerado como un nombre moderno.</li>', '<li><strong>Eva<br></strong>Este nombre de origen hebreo se nos ha trasmitido a través de los relatos bíblicos en la imagen de la primera mujer. Su popularidad se mantiene invariable y ajena a modas y tendencias, probablemente por la energía que transmite. El <a href=\"https://www.guiainfantil.com/articulos/nombres/cristianos-santos/dia-de-santa-eva-19-de-diciembre-nombres-para-bebes-de-nina/\" title=\"significado del nombre Eva\">nombre Eva </a>tiene un bonito significado: \\'la que da vida\\' o \\'fuente de vida\\'.</li>', '<li><strong>Hugo<br></strong>Es uno de los nombres cortos para niño más atractivos por su simplicidad y sonoridad. Su origen germánico habla de inteligencia y de resplandor, y su sencillez no hace sino aumentar la personalidad de este nombre que está de plena actualidad. El <a href=\"https://www.guiainfantil.com/articulos/nombres/cristianos-santos/dia-del-santo-hugo-1-de-abril-nombres-para-ninos/\" title=\"significado del nombre Hugo\">nombre Hugo</a> celebra su santo el día 1 de Abril.</li>', '<li><strong>Iván<br></strong>Se trata de un nombre tradicional, aunque moderno. Es un nombre de origen ruso y una variante del nombre Juan. El <a href=\"https://www.guiainfantil.com/articulos/nombres/cristianos-santos/dia-del-santo-ivan-24-de-junio-nombres-para-ninos/\" title=\"origen y significado del nombre Iván\">nombre Iván </a>aporta distinción y elegancia, y un toque muy personal, perfecto para vuestro bebé.</li>', '<li><strong>Juan<br></strong>Este es uno de los nombres más populares, tradicionales, familiares, y que nunca pasa de moda. Además, admite muchas combinaciones como Juan Carlos, Juan Jose, entre otras. El <a href=\"https://www.guiainfantil.com/articulos/nombres/cristianos-santos/dia-del-santo-juan-24-de-junio-nombres-para-ninos/\" title=\"el nombre Juan significa\">nombre Juan</a> es de origen hebreo y significa \\'<a href=\"https://www.guiainfantil.com/nombres/cristianos-santos/8-de-marzo-dia-de-santo-juan-de-dios-guia-de-nombres-para-ninos/\" title=\"El día de San Juan de Dios\">el fiel a Dios</a>\\'.</li>', '<li><strong>Lara<br></strong>Es un nombre corto y delicado para una niña, que inspira paz y sosiego. El nombre Lara es de origen latino y proviene de la mitología romana donde los dioses Lares eran los protectores del hogar. Lara es un nombre con un sonido agradable y uno de los más bonitos para las niñas.</li>', '<li><strong>Leo<br></strong>Al principio este <a href=\"https://www.guiainfantil.com/articulos/nombres/nombres-para-ninos/10-nombres-africanos-para-ninos/\" title=\"106 nombres africanos para niños con mucha tradición\">nombre</a> era un diminutivo, pero con el tiempo se ha convertido en un nombre con entidad propia. Es de origen latino y aunque su popularidad es creciente se debe a que es el nombre que Penélope Cruz eligió para su niño. También porque uno de los mejores jugadores de fútbol de los últimos años también lleve este nombre corto: Leo Messi.</li>', '<li><strong>Luz<br></strong>Se trata de un nombre de origen latino, tan luminoso y radiante como el propio. <a href=\"https://www.guiainfantil.com/articulos/nombres/cristianos-santos/dia-de-nuestra-senora-de-la-luz-1-de-julio-nombres-para-ninas/\" title=\"el nombre Luz para niñas\">Luz es un nombre</a> sencillo que aporta un toque delicado y elegante, tan personal que se mantiene ajeno a las tendencias.</li>', \"<li><strong>Mar<br></strong>Se trata de un nombre femenino de origen italiano que significa 'la señora del mar'. Este nombre que ya es muy popular en España, solía venir acompañado del nombre María, pero ya se usa solo.</li>\", '<li><strong>Nora<br></strong>Se sabe que este nombre tiene origen griego y que proviene de nombres como el de Honoria y Eleonora. El resultado es un nombre corto para niña, sofisticado, original y elegante.</li>', '<li><strong>Raúl<br></strong>De origen germánico, el <a href=\"https://www.guiainfantil.com/articulos/nombres/alemanes/dia-del-santo-raul-30-de-diciembre-nombres-para-ninos/\" title=\"significado del nombre Raúl\">nombre Raúl </a>llega cargado de gran personalidad y fuerza. Eso debido a que significa \\'el consejero valiente\\' o \\'el lobo consejero\\'. Personajes famosos que tienen este nombre: el jugador de fútbol Raúl Gonzalez, el actor Raúl Julia, o el jugador de baloncesto Raúl López.</li>', \"<li><strong>Sara<br></strong>Nombre de origen hebreo que significa 'princesa'. Pertenece a ese grupo de nombres de personajes bíblicos que siempre están de moda y que no pierden frescura con el paso del tiempo.</li>\", '</ol>']\n"
          ]
        }
      ]
    },
    {
      "cell_type": "code",
      "source": [
        "texto_li = texto_splitted[1 : -1]"
      ],
      "metadata": {
        "id": "1XN7nkf6GqRV"
      },
      "execution_count": 11,
      "outputs": []
    },
    {
      "cell_type": "code",
      "source": [
        "texto_li"
      ],
      "metadata": {
        "id": "MpdCMtqjMiKh",
        "outputId": "8b65a348-14e4-4c9c-b258-3380a529f09c",
        "colab": {
          "base_uri": "https://localhost:8080/"
        }
      },
      "execution_count": 22,
      "outputs": [
        {
          "output_type": "execute_result",
          "data": {
            "text/plain": [
              "['<li><strong>Ana<br></strong>Este nombre de origen hebreo y procedente de la tradición bíblica es otro de esos nombres tradicionales, con energía y carácter, que nunca pasan de moda. El <a href=\"https://www.guiainfantil.com/articulos/nombres/cristianos-santos/dia-de-la-santa-ana-7-de-junio-nombres-para-ninas/\" title=\"origen y significado del nombre Ana\">nombre Ana</a> viene de la palabra hebrea \\'hannah\\', que significa \\'misericordiosa\\', \\'bendecida por Dios\\'. Ana era la madre de la virgen María.</li>',\n",
              " '<li><strong>Enzo<br></strong>Este nombre tiene un curioso origen. El <a href=\"https://www.guiainfantil.com/nombres/nombres-para-ninos/significado-del-nombre-enzo/\" title=\"qué significa y de donde viene el nombre Enzo\">nombre Enzo</a> es la versión italiana del nombre alemán Heinz que a su vez es el diminutivo de Heinrich. Se trata, por tanto, de un nombre con historia que aportará una gran personalidad a vuestro niño.</li>',\n",
              " '<li><strong>Eric<br></strong>Este nombre es de origen escandinavo y tiene un significado que habla de poder eterno. El <a href=\"https://www.guiainfantil.com/nombres/nombres-para-ninos/significado-del-nombre-eric/\" title=\"significado y procedencia del nombre Eric\">nombre Eric</a> es corto, sencillo y muy sofisticado que está ganando popularidad hasta convertirse en un nombre frecuente. A pesar de tener una larga tradición, Eric sigue considerado como un nombre moderno.</li>',\n",
              " '<li><strong>Eva<br></strong>Este nombre de origen hebreo se nos ha trasmitido a través de los relatos bíblicos en la imagen de la primera mujer. Su popularidad se mantiene invariable y ajena a modas y tendencias, probablemente por la energía que transmite. El <a href=\"https://www.guiainfantil.com/articulos/nombres/cristianos-santos/dia-de-santa-eva-19-de-diciembre-nombres-para-bebes-de-nina/\" title=\"significado del nombre Eva\">nombre Eva </a>tiene un bonito significado: \\'la que da vida\\' o \\'fuente de vida\\'.</li>',\n",
              " '<li><strong>Hugo<br></strong>Es uno de los nombres cortos para niño más atractivos por su simplicidad y sonoridad. Su origen germánico habla de inteligencia y de resplandor, y su sencillez no hace sino aumentar la personalidad de este nombre que está de plena actualidad. El <a href=\"https://www.guiainfantil.com/articulos/nombres/cristianos-santos/dia-del-santo-hugo-1-de-abril-nombres-para-ninos/\" title=\"significado del nombre Hugo\">nombre Hugo</a> celebra su santo el día 1 de Abril.</li>',\n",
              " '<li><strong>Iván<br></strong>Se trata de un nombre tradicional, aunque moderno. Es un nombre de origen ruso y una variante del nombre Juan. El <a href=\"https://www.guiainfantil.com/articulos/nombres/cristianos-santos/dia-del-santo-ivan-24-de-junio-nombres-para-ninos/\" title=\"origen y significado del nombre Iván\">nombre Iván </a>aporta distinción y elegancia, y un toque muy personal, perfecto para vuestro bebé.</li>',\n",
              " '<li><strong>Juan<br></strong>Este es uno de los nombres más populares, tradicionales, familiares, y que nunca pasa de moda. Además, admite muchas combinaciones como Juan Carlos, Juan Jose, entre otras. El <a href=\"https://www.guiainfantil.com/articulos/nombres/cristianos-santos/dia-del-santo-juan-24-de-junio-nombres-para-ninos/\" title=\"el nombre Juan significa\">nombre Juan</a> es de origen hebreo y significa \\'<a href=\"https://www.guiainfantil.com/nombres/cristianos-santos/8-de-marzo-dia-de-santo-juan-de-dios-guia-de-nombres-para-ninos/\" title=\"El día de San Juan de Dios\">el fiel a Dios</a>\\'.</li>',\n",
              " '<li><strong>Lara<br></strong>Es un nombre corto y delicado para una niña, que inspira paz y sosiego. El nombre Lara es de origen latino y proviene de la mitología romana donde los dioses Lares eran los protectores del hogar. Lara es un nombre con un sonido agradable y uno de los más bonitos para las niñas.</li>',\n",
              " '<li><strong>Leo<br></strong>Al principio este <a href=\"https://www.guiainfantil.com/articulos/nombres/nombres-para-ninos/10-nombres-africanos-para-ninos/\" title=\"106 nombres africanos para niños con mucha tradición\">nombre</a> era un diminutivo, pero con el tiempo se ha convertido en un nombre con entidad propia. Es de origen latino y aunque su popularidad es creciente se debe a que es el nombre que Penélope Cruz eligió para su niño. También porque uno de los mejores jugadores de fútbol de los últimos años también lleve este nombre corto: Leo Messi.</li>',\n",
              " '<li><strong>Luz<br></strong>Se trata de un nombre de origen latino, tan luminoso y radiante como el propio. <a href=\"https://www.guiainfantil.com/articulos/nombres/cristianos-santos/dia-de-nuestra-senora-de-la-luz-1-de-julio-nombres-para-ninas/\" title=\"el nombre Luz para niñas\">Luz es un nombre</a> sencillo que aporta un toque delicado y elegante, tan personal que se mantiene ajeno a las tendencias.</li>',\n",
              " \"<li><strong>Mar<br></strong>Se trata de un nombre femenino de origen italiano que significa 'la señora del mar'. Este nombre que ya es muy popular en España, solía venir acompañado del nombre María, pero ya se usa solo.</li>\",\n",
              " '<li><strong>Nora<br></strong>Se sabe que este nombre tiene origen griego y que proviene de nombres como el de Honoria y Eleonora. El resultado es un nombre corto para niña, sofisticado, original y elegante.</li>',\n",
              " '<li><strong>Raúl<br></strong>De origen germánico, el <a href=\"https://www.guiainfantil.com/articulos/nombres/alemanes/dia-del-santo-raul-30-de-diciembre-nombres-para-ninos/\" title=\"significado del nombre Raúl\">nombre Raúl </a>llega cargado de gran personalidad y fuerza. Eso debido a que significa \\'el consejero valiente\\' o \\'el lobo consejero\\'. Personajes famosos que tienen este nombre: el jugador de fútbol Raúl Gonzalez, el actor Raúl Julia, o el jugador de baloncesto Raúl López.</li>',\n",
              " \"<li><strong>Sara<br></strong>Nombre de origen hebreo que significa 'princesa'. Pertenece a ese grupo de nombres de personajes bíblicos que siempre están de moda y que no pierden frescura con el paso del tiempo.</li>\"]"
            ]
          },
          "metadata": {},
          "execution_count": 22
        }
      ]
    },
    {
      "cell_type": "code",
      "source": [
        "import re"
      ],
      "metadata": {
        "id": "tXyznh2ZJx7M"
      },
      "execution_count": 12,
      "outputs": []
    },
    {
      "cell_type": "code",
      "source": [
        "REGEXP_PATTERN= r\"<strong>(.*?)<br>\"\n",
        "\n",
        "for line in texto_li:\n",
        "    res = re.search(\"<strong>(.*?)<br>\", line) # verifica si algun match con ese pattern\n",
        "    nombre = res.group() # obtiene el match del pattern\n",
        "    nombre_clean = nombre.replace(\"<strong>\",\"\").replace(\"<br>\",\"\") # dado al match, reemplaza las etqieutas strong y br --> ''\n",
        "    print(nombre_clean)\n",
        ""
      ],
      "metadata": {
        "id": "wDfV_c5lJHLI",
        "outputId": "951a7e5d-deab-4bd5-ff34-71038bfc401f",
        "colab": {
          "base_uri": "https://localhost:8080/"
        }
      },
      "execution_count": 21,
      "outputs": [
        {
          "output_type": "stream",
          "name": "stdout",
          "text": [
            "Ana\n",
            "Enzo\n",
            "Eric\n",
            "Eva\n",
            "Hugo\n",
            "Iván\n",
            "Juan\n",
            "Lara\n",
            "Leo\n",
            "Luz\n",
            "Mar\n",
            "Nora\n",
            "Raúl\n",
            "Sara\n"
          ]
        }
      ]
    },
    {
      "cell_type": "markdown",
      "source": [
        "## funcion de limpieza"
      ],
      "metadata": {
        "id": "-2kzmy3PMp8F"
      }
    },
    {
      "cell_type": "code",
      "source": [
        "def funcion_limpieza(pattern:str, texto_a_limpiar:str) -> str:\n",
        "    res = re.search(pattern,texto_a_limpiar)\n",
        "    texto_encontrado = res.group()\n",
        "    return texto_encontrado.replace(\"<strong>\",\"\").replace(\"<br>\",\"\")"
      ],
      "metadata": {
        "id": "_oMZw6x2MtKo"
      },
      "execution_count": 23,
      "outputs": []
    },
    {
      "cell_type": "code",
      "source": [
        "for line in texto_li:\n",
        "    nombre=funcion_limpieza(REGEXP_PATTERN,line)\n",
        "    print(nombre)"
      ],
      "metadata": {
        "id": "WnuOjH_uOOy0",
        "outputId": "3bd857ef-925e-46f5-e770-d7c8948b6736",
        "colab": {
          "base_uri": "https://localhost:8080/"
        }
      },
      "execution_count": 24,
      "outputs": [
        {
          "output_type": "stream",
          "name": "stdout",
          "text": [
            "Ana\n",
            "Enzo\n",
            "Eric\n",
            "Eva\n",
            "Hugo\n",
            "Iván\n",
            "Juan\n",
            "Lara\n",
            "Leo\n",
            "Luz\n",
            "Mar\n",
            "Nora\n",
            "Raúl\n",
            "Sara\n"
          ]
        }
      ]
    },
    {
      "cell_type": "code",
      "source": [
        "# Dividir el texto por las etiquetas <li> para obtener cada elemento de la lista\n",
        "lineas = texto_raw.split('<li>')\n",
        "\n",
        "nombres = []\n",
        "\n",
        "for linea in lineas:\n",
        "    # Buscar el patrón <strong>NOMBRE<br></strong>\n",
        "    if '<strong>' in linea and '<br></strong>' in linea:\n",
        "        # Encontrar la posición de inicio y fin del nombre\n",
        "        inicio = linea.find('<strong>') + len('<strong>')\n",
        "        fin = linea.find('<br></strong>')\n",
        "\n",
        "        # Extraer el nombre si las posiciones son válidas\n",
        "        if inicio > -1 and fin > -1 and inicio < fin:\n",
        "            nombre = linea[inicio:fin].strip()\n",
        "            if nombre:  # Verificar que el nombre no esté vacío\n",
        "                nombres.append(nombre)\n",
        "\n",
        "print(nombres)"
      ],
      "metadata": {
        "id": "G3Xe6zgtRUn-",
        "outputId": "dfc04c29-9579-409e-d09e-c9c39d3aaecb",
        "colab": {
          "base_uri": "https://localhost:8080/"
        }
      },
      "execution_count": 25,
      "outputs": [
        {
          "output_type": "stream",
          "name": "stdout",
          "text": [
            "['Ana', 'Enzo', 'Eric', 'Eva', 'Hugo', 'Iván', 'Juan', 'Lara', 'Leo', 'Luz', 'Mar', 'Nora', 'Raúl', 'Sara']\n"
          ]
        }
      ]
    },
    {
      "cell_type": "markdown",
      "source": [
        "##"
      ],
      "metadata": {
        "id": "cQlIrwj7Fsl3"
      }
    }
  ]
}