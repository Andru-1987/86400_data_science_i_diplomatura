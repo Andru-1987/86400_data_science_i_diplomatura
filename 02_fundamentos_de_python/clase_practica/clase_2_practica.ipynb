{
  "nbformat": 4,
  "nbformat_minor": 0,
  "metadata": {
    "colab": {
      "provenance": [],
      "authorship_tag": "ABX9TyPhjJR3QzFrim8SkAuHKP1p",
      "include_colab_link": true
    },
    "kernelspec": {
      "name": "python3",
      "display_name": "Python 3"
    },
    "language_info": {
      "name": "python"
    }
  },
  "cells": [
    {
      "cell_type": "markdown",
      "metadata": {
        "id": "view-in-github",
        "colab_type": "text"
      },
      "source": [
        "<a href=\"https://colab.research.google.com/github/Andru-1987/86400_data_science_i_diplomatura/blob/main/02_fundamentos_de_python/clase_practica/clase_2_practica.ipynb\" target=\"_parent\"><img src=\"https://colab.research.google.com/assets/colab-badge.svg\" alt=\"Open In Colab\"/></a>"
      ]
    },
    {
      "cell_type": "markdown",
      "source": [
        "*Consigna*:\n",
        "\n",
        "Se tiene una lista con\n",
        "valores = `[200, 225, 232, 221, 243, 256, 255]` que representan los precios de una acción de la compañía X la semana pasada (*cada dato representa el promedio diario*).\n",
        "\n",
        "**Escribir el código para calcular los días de la semana donde hubo un retroceso respecto al día anterior en el valor de la acción de la compañía X.**\n"
      ],
      "metadata": {
        "id": "TgaQNy2cWGle"
      }
    },
    {
      "cell_type": "code",
      "source": [
        "valores_accion:list[float] = [200, 225, 232, 221, 243, 256, 255]"
      ],
      "metadata": {
        "id": "qb3Pwnz1W5mC"
      },
      "execution_count": 30,
      "outputs": []
    },
    {
      "cell_type": "code",
      "source": [
        "days = \"lunes,martes,miercoles,jueves,viernes,sabado,domingo\".split(sep=',')\n",
        "\n",
        "\n",
        "for indice, day_y_valor in enumerate(zip(days,valores_accion)):\n",
        "    # print(indice)\n",
        "    # print(day_y_valor)\n",
        "    day, valor = day_y_valor\n",
        "    print(\"El dia de analisis:\\t\", day)\n",
        "\n",
        "    if indice == 0:\n",
        "        print(\"Es el dia de arranque y no se analiza\")\n",
        "        continue\n",
        "\n",
        "    diff_accion = valor - valores_accion[indice - 1]\n",
        "\n",
        "    if diff_accion < 0:\n",
        "        print(f\"\\tTenemos una baja en la accion es de : {diff_accion}\")"
      ],
      "metadata": {
        "colab": {
          "base_uri": "https://localhost:8080/"
        },
        "id": "5WF7uMe3Ww9m",
        "outputId": "08392445-5c62-4732-9cf0-cb08c1cdb2c6"
      },
      "execution_count": 31,
      "outputs": [
        {
          "output_type": "stream",
          "name": "stdout",
          "text": [
            "El dia de analisis:\t lunes\n",
            "Es el dia de arranque y no se analiza\n",
            "El dia de analisis:\t martes\n",
            "El dia de analisis:\t miercoles\n",
            "El dia de analisis:\t jueves\n",
            "\tTenemos una baja en la accion es de : -11\n",
            "El dia de analisis:\t viernes\n",
            "El dia de analisis:\t sabado\n",
            "El dia de analisis:\t domingo\n",
            "\tTenemos una baja en la accion es de : -1\n"
          ]
        }
      ]
    },
    {
      "cell_type": "code",
      "source": [
        "usuario = (\"pepe\", 80)"
      ],
      "metadata": {
        "id": "YSsy6Y7QcbyP"
      },
      "execution_count": 32,
      "outputs": []
    },
    {
      "cell_type": "code",
      "source": [
        "nombre = usuario[0]\n",
        "nombre"
      ],
      "metadata": {
        "colab": {
          "base_uri": "https://localhost:8080/",
          "height": 36
        },
        "id": "qRoqy5jxcpwG",
        "outputId": "2eaa4d70-04b5-4415-ba1e-4f1a72a8b0c3"
      },
      "execution_count": 33,
      "outputs": [
        {
          "output_type": "execute_result",
          "data": {
            "text/plain": [
              "'pepe'"
            ],
            "application/vnd.google.colaboratory.intrinsic+json": {
              "type": "string"
            }
          },
          "metadata": {},
          "execution_count": 33
        }
      ]
    },
    {
      "cell_type": "code",
      "source": [
        "wallet = usuario[1]\n",
        "wallet"
      ],
      "metadata": {
        "colab": {
          "base_uri": "https://localhost:8080/"
        },
        "id": "tDxJpB6pcvkw",
        "outputId": "08f05ed1-574a-4529-b39c-10a1411c0924"
      },
      "execution_count": 34,
      "outputs": [
        {
          "output_type": "execute_result",
          "data": {
            "text/plain": [
              "80"
            ]
          },
          "metadata": {},
          "execution_count": 34
        }
      ]
    },
    {
      "cell_type": "code",
      "source": [
        "nombre, wallet = usuario"
      ],
      "metadata": {
        "id": "tHtUJor5c01i"
      },
      "execution_count": 35,
      "outputs": []
    },
    {
      "cell_type": "code",
      "source": [
        "print(nombre)\n",
        "print(wallet)"
      ],
      "metadata": {
        "colab": {
          "base_uri": "https://localhost:8080/"
        },
        "id": "IF5vFUUec72G",
        "outputId": "02d28ed8-1c80-4748-b42b-da09dd7b317a"
      },
      "execution_count": 36,
      "outputs": [
        {
          "output_type": "stream",
          "name": "stdout",
          "text": [
            "pepe\n",
            "80\n"
          ]
        }
      ]
    },
    {
      "cell_type": "code",
      "source": [
        "valores_accion.sort(reverse=True)"
      ],
      "metadata": {
        "id": "AKk4hzvfdTqt"
      },
      "execution_count": 37,
      "outputs": []
    },
    {
      "cell_type": "code",
      "source": [
        "valores_accion[0]"
      ],
      "metadata": {
        "colab": {
          "base_uri": "https://localhost:8080/"
        },
        "id": "Ia7uvzZZeVNk",
        "outputId": "9c72533e-bd78-4dc6-8c08-ff52481dbb27"
      },
      "execution_count": 39,
      "outputs": [
        {
          "output_type": "execute_result",
          "data": {
            "text/plain": [
              "256"
            ]
          },
          "metadata": {},
          "execution_count": 39
        }
      ]
    },
    {
      "cell_type": "code",
      "source": [
        "max(valores_accion)"
      ],
      "metadata": {
        "colab": {
          "base_uri": "https://localhost:8080/"
        },
        "id": "lvCK9RjaerGA",
        "outputId": "f910eee3-fc80-4990-f852-7ed1c0756cca"
      },
      "execution_count": 40,
      "outputs": [
        {
          "output_type": "execute_result",
          "data": {
            "text/plain": [
              "256"
            ]
          },
          "metadata": {},
          "execution_count": 40
        }
      ]
    },
    {
      "cell_type": "code",
      "source": [
        "valores_accion:list[int|float] = [200, 225, 232, 221, 243, 256,\"300\", 255]"
      ],
      "metadata": {
        "id": "sDISKmKvexmC"
      },
      "execution_count": 41,
      "outputs": []
    },
    {
      "cell_type": "code",
      "source": [
        "def limpieza_de_numeros(numero:any) -> int|float:\n",
        "    if isinstance(numero,str):\n",
        "        return float(numero)\n",
        "\n",
        "    return numero\n"
      ],
      "metadata": {
        "id": "LVxIvY9ofEiC"
      },
      "execution_count": 46,
      "outputs": []
    },
    {
      "cell_type": "code",
      "source": [
        "valores_accion_clean = [ limpieza_de_numeros(accion) for accion in valores_accion]\n",
        "valores_accion_clean"
      ],
      "metadata": {
        "colab": {
          "base_uri": "https://localhost:8080/"
        },
        "id": "FonTAdeRfrp0",
        "outputId": "1c2b9199-f858-4253-aa42-5b48db5485a6"
      },
      "execution_count": 47,
      "outputs": [
        {
          "output_type": "execute_result",
          "data": {
            "text/plain": [
              "[200, 225, 232, 221, 243, 256, 300.0, 255]"
            ]
          },
          "metadata": {},
          "execution_count": 47
        }
      ]
    },
    {
      "cell_type": "code",
      "source": [
        "valores_accion_clean.sort(reverse=True)"
      ],
      "metadata": {
        "id": "XrirMlVVe3D-"
      },
      "execution_count": 49,
      "outputs": []
    },
    {
      "cell_type": "code",
      "source": [
        "valores_accion_clean[0]"
      ],
      "metadata": {
        "colab": {
          "base_uri": "https://localhost:8080/"
        },
        "id": "3ZjevgjRgSFN",
        "outputId": "662fd467-be86-4754-8f39-f24cc527f5af"
      },
      "execution_count": 50,
      "outputs": [
        {
          "output_type": "execute_result",
          "data": {
            "text/plain": [
              "300.0"
            ]
          },
          "metadata": {},
          "execution_count": 50
        }
      ]
    }
  ]
}